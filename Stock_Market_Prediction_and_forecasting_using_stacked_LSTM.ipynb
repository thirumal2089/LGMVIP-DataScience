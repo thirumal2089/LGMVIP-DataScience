{
  "nbformat": 4,
  "nbformat_minor": 0,
  "metadata": {
    "colab": {
      "provenance": [],
      "authorship_tag": "ABX9TyM9Tw05vIINLVj2NBYAXXye",
      "include_colab_link": true
    },
    "kernelspec": {
      "name": "python3",
      "display_name": "Python 3"
    },
    "language_info": {
      "name": "python"
    }
  },
  "cells": [
    {
      "cell_type": "markdown",
      "metadata": {
        "id": "view-in-github",
        "colab_type": "text"
      },
      "source": [
        "<a href=\"https://colab.research.google.com/github/thirumal2089/LGMVIP-DataScience/blob/main/Stock_Market_Prediction_and_forecasting_using_stacked_LSTM.ipynb\" target=\"_parent\"><img src=\"https://colab.research.google.com/assets/colab-badge.svg\" alt=\"Open In Colab\"/></a>"
      ]
    },
    {
      "cell_type": "markdown",
      "source": [
        "**LGMVIP-DATA SCIENCE INTERNSHIP**"
      ],
      "metadata": {
        "id": "N2MH7drNUf3W"
      }
    },
    {
      "cell_type": "markdown",
      "source": [
        "Stock Market Prediction and forecasting using stacked LSTM"
      ],
      "metadata": {
        "id": "yMEscs8rUVjQ"
      }
    },
    {
      "cell_type": "markdown",
      "source": [
        "Data set Link : https://raw.githubusercontent.com/mwitiderrick/stockprice/master/NSE-TATAGLOBAL.csv"
      ],
      "metadata": {
        "id": "zMZoUJWTUk3X"
      }
    },
    {
      "cell_type": "markdown",
      "source": [
        "**Importing Libraries**"
      ],
      "metadata": {
        "id": "tseR268TVCVz"
      }
    },
    {
      "cell_type": "code",
      "execution_count": null,
      "metadata": {
        "id": "6qpHVRniUMLJ"
      },
      "outputs": [],
      "source": [
        "import numpy as np\n",
        "import pandas as pd\n",
        "import matplotlib.pyplot as plt\n",
        "import math\n",
        "from sklearn.metrics import mean_squared_error\n",
        "import sklearn.metrics as metrics\n",
        "from sklearn.preprocessing import MinMaxScaler\n",
        "from tensorflow.keras.models import Sequential\n",
        "from tensorflow.keras.layers import Dense\n",
        "from tensorflow.keras.layers import LSTM"
      ]
    },
    {
      "cell_type": "code",
      "source": [
        "link=\"https://raw.githubusercontent.com/mwitiderrick/stockprice/master/NSE-TATAGLOBAL.csv\""
      ],
      "metadata": {
        "id": "Cah5xtk2UtLv"
      },
      "execution_count": null,
      "outputs": []
    },
    {
      "cell_type": "code",
      "source": [
        "d=pd.read_csv(link)  "
      ],
      "metadata": {
        "id": "NenUY_q5UtPx"
      },
      "execution_count": null,
      "outputs": []
    },
    {
      "cell_type": "code",
      "source": [
        "d"
      ],
      "metadata": {
        "colab": {
          "base_uri": "https://localhost:8080/",
          "height": 424
        },
        "id": "ygGFTnmUUtVo",
        "outputId": "dbf0e3dc-48d6-4d00-b0b7-1eeb2fe135dc"
      },
      "execution_count": null,
      "outputs": [
        {
          "output_type": "execute_result",
          "data": {
            "text/plain": [
              "            Date    Open    High     Low    Last   Close  \\\n",
              "0     2018-09-28  234.05  235.95  230.20  233.50  233.75   \n",
              "1     2018-09-27  234.55  236.80  231.10  233.80  233.25   \n",
              "2     2018-09-26  240.00  240.00  232.50  235.00  234.25   \n",
              "3     2018-09-25  233.30  236.75  232.00  236.25  236.10   \n",
              "4     2018-09-24  233.55  239.20  230.75  234.00  233.30   \n",
              "...          ...     ...     ...     ...     ...     ...   \n",
              "2030  2010-07-27  117.60  119.50  112.00  118.80  118.65   \n",
              "2031  2010-07-26  120.10  121.00  117.10  117.10  117.60   \n",
              "2032  2010-07-23  121.80  121.95  120.25  120.35  120.65   \n",
              "2033  2010-07-22  120.30  122.00  120.25  120.75  120.90   \n",
              "2034  2010-07-21  122.10  123.00  121.05  121.10  121.55   \n",
              "\n",
              "      Total Trade Quantity  Turnover (Lacs)  \n",
              "0                  3069914          7162.35  \n",
              "1                  5082859         11859.95  \n",
              "2                  2240909          5248.60  \n",
              "3                  2349368          5503.90  \n",
              "4                  3423509          7999.55  \n",
              "...                    ...              ...  \n",
              "2030                586100           694.98  \n",
              "2031                658440           780.01  \n",
              "2032                281312           340.31  \n",
              "2033                293312           355.17  \n",
              "2034                658666           803.56  \n",
              "\n",
              "[2035 rows x 8 columns]"
            ],
            "text/html": [
              "\n",
              "  <div id=\"df-7e2e6b51-01b9-4874-819a-6813818f8b92\">\n",
              "    <div class=\"colab-df-container\">\n",
              "      <div>\n",
              "<style scoped>\n",
              "    .dataframe tbody tr th:only-of-type {\n",
              "        vertical-align: middle;\n",
              "    }\n",
              "\n",
              "    .dataframe tbody tr th {\n",
              "        vertical-align: top;\n",
              "    }\n",
              "\n",
              "    .dataframe thead th {\n",
              "        text-align: right;\n",
              "    }\n",
              "</style>\n",
              "<table border=\"1\" class=\"dataframe\">\n",
              "  <thead>\n",
              "    <tr style=\"text-align: right;\">\n",
              "      <th></th>\n",
              "      <th>Date</th>\n",
              "      <th>Open</th>\n",
              "      <th>High</th>\n",
              "      <th>Low</th>\n",
              "      <th>Last</th>\n",
              "      <th>Close</th>\n",
              "      <th>Total Trade Quantity</th>\n",
              "      <th>Turnover (Lacs)</th>\n",
              "    </tr>\n",
              "  </thead>\n",
              "  <tbody>\n",
              "    <tr>\n",
              "      <th>0</th>\n",
              "      <td>2018-09-28</td>\n",
              "      <td>234.05</td>\n",
              "      <td>235.95</td>\n",
              "      <td>230.20</td>\n",
              "      <td>233.50</td>\n",
              "      <td>233.75</td>\n",
              "      <td>3069914</td>\n",
              "      <td>7162.35</td>\n",
              "    </tr>\n",
              "    <tr>\n",
              "      <th>1</th>\n",
              "      <td>2018-09-27</td>\n",
              "      <td>234.55</td>\n",
              "      <td>236.80</td>\n",
              "      <td>231.10</td>\n",
              "      <td>233.80</td>\n",
              "      <td>233.25</td>\n",
              "      <td>5082859</td>\n",
              "      <td>11859.95</td>\n",
              "    </tr>\n",
              "    <tr>\n",
              "      <th>2</th>\n",
              "      <td>2018-09-26</td>\n",
              "      <td>240.00</td>\n",
              "      <td>240.00</td>\n",
              "      <td>232.50</td>\n",
              "      <td>235.00</td>\n",
              "      <td>234.25</td>\n",
              "      <td>2240909</td>\n",
              "      <td>5248.60</td>\n",
              "    </tr>\n",
              "    <tr>\n",
              "      <th>3</th>\n",
              "      <td>2018-09-25</td>\n",
              "      <td>233.30</td>\n",
              "      <td>236.75</td>\n",
              "      <td>232.00</td>\n",
              "      <td>236.25</td>\n",
              "      <td>236.10</td>\n",
              "      <td>2349368</td>\n",
              "      <td>5503.90</td>\n",
              "    </tr>\n",
              "    <tr>\n",
              "      <th>4</th>\n",
              "      <td>2018-09-24</td>\n",
              "      <td>233.55</td>\n",
              "      <td>239.20</td>\n",
              "      <td>230.75</td>\n",
              "      <td>234.00</td>\n",
              "      <td>233.30</td>\n",
              "      <td>3423509</td>\n",
              "      <td>7999.55</td>\n",
              "    </tr>\n",
              "    <tr>\n",
              "      <th>...</th>\n",
              "      <td>...</td>\n",
              "      <td>...</td>\n",
              "      <td>...</td>\n",
              "      <td>...</td>\n",
              "      <td>...</td>\n",
              "      <td>...</td>\n",
              "      <td>...</td>\n",
              "      <td>...</td>\n",
              "    </tr>\n",
              "    <tr>\n",
              "      <th>2030</th>\n",
              "      <td>2010-07-27</td>\n",
              "      <td>117.60</td>\n",
              "      <td>119.50</td>\n",
              "      <td>112.00</td>\n",
              "      <td>118.80</td>\n",
              "      <td>118.65</td>\n",
              "      <td>586100</td>\n",
              "      <td>694.98</td>\n",
              "    </tr>\n",
              "    <tr>\n",
              "      <th>2031</th>\n",
              "      <td>2010-07-26</td>\n",
              "      <td>120.10</td>\n",
              "      <td>121.00</td>\n",
              "      <td>117.10</td>\n",
              "      <td>117.10</td>\n",
              "      <td>117.60</td>\n",
              "      <td>658440</td>\n",
              "      <td>780.01</td>\n",
              "    </tr>\n",
              "    <tr>\n",
              "      <th>2032</th>\n",
              "      <td>2010-07-23</td>\n",
              "      <td>121.80</td>\n",
              "      <td>121.95</td>\n",
              "      <td>120.25</td>\n",
              "      <td>120.35</td>\n",
              "      <td>120.65</td>\n",
              "      <td>281312</td>\n",
              "      <td>340.31</td>\n",
              "    </tr>\n",
              "    <tr>\n",
              "      <th>2033</th>\n",
              "      <td>2010-07-22</td>\n",
              "      <td>120.30</td>\n",
              "      <td>122.00</td>\n",
              "      <td>120.25</td>\n",
              "      <td>120.75</td>\n",
              "      <td>120.90</td>\n",
              "      <td>293312</td>\n",
              "      <td>355.17</td>\n",
              "    </tr>\n",
              "    <tr>\n",
              "      <th>2034</th>\n",
              "      <td>2010-07-21</td>\n",
              "      <td>122.10</td>\n",
              "      <td>123.00</td>\n",
              "      <td>121.05</td>\n",
              "      <td>121.10</td>\n",
              "      <td>121.55</td>\n",
              "      <td>658666</td>\n",
              "      <td>803.56</td>\n",
              "    </tr>\n",
              "  </tbody>\n",
              "</table>\n",
              "<p>2035 rows × 8 columns</p>\n",
              "</div>\n",
              "      <button class=\"colab-df-convert\" onclick=\"convertToInteractive('df-7e2e6b51-01b9-4874-819a-6813818f8b92')\"\n",
              "              title=\"Convert this dataframe to an interactive table.\"\n",
              "              style=\"display:none;\">\n",
              "        \n",
              "  <svg xmlns=\"http://www.w3.org/2000/svg\" height=\"24px\"viewBox=\"0 0 24 24\"\n",
              "       width=\"24px\">\n",
              "    <path d=\"M0 0h24v24H0V0z\" fill=\"none\"/>\n",
              "    <path d=\"M18.56 5.44l.94 2.06.94-2.06 2.06-.94-2.06-.94-.94-2.06-.94 2.06-2.06.94zm-11 1L8.5 8.5l.94-2.06 2.06-.94-2.06-.94L8.5 2.5l-.94 2.06-2.06.94zm10 10l.94 2.06.94-2.06 2.06-.94-2.06-.94-.94-2.06-.94 2.06-2.06.94z\"/><path d=\"M17.41 7.96l-1.37-1.37c-.4-.4-.92-.59-1.43-.59-.52 0-1.04.2-1.43.59L10.3 9.45l-7.72 7.72c-.78.78-.78 2.05 0 2.83L4 21.41c.39.39.9.59 1.41.59.51 0 1.02-.2 1.41-.59l7.78-7.78 2.81-2.81c.8-.78.8-2.07 0-2.86zM5.41 20L4 18.59l7.72-7.72 1.47 1.35L5.41 20z\"/>\n",
              "  </svg>\n",
              "      </button>\n",
              "      \n",
              "  <style>\n",
              "    .colab-df-container {\n",
              "      display:flex;\n",
              "      flex-wrap:wrap;\n",
              "      gap: 12px;\n",
              "    }\n",
              "\n",
              "    .colab-df-convert {\n",
              "      background-color: #E8F0FE;\n",
              "      border: none;\n",
              "      border-radius: 50%;\n",
              "      cursor: pointer;\n",
              "      display: none;\n",
              "      fill: #1967D2;\n",
              "      height: 32px;\n",
              "      padding: 0 0 0 0;\n",
              "      width: 32px;\n",
              "    }\n",
              "\n",
              "    .colab-df-convert:hover {\n",
              "      background-color: #E2EBFA;\n",
              "      box-shadow: 0px 1px 2px rgba(60, 64, 67, 0.3), 0px 1px 3px 1px rgba(60, 64, 67, 0.15);\n",
              "      fill: #174EA6;\n",
              "    }\n",
              "\n",
              "    [theme=dark] .colab-df-convert {\n",
              "      background-color: #3B4455;\n",
              "      fill: #D2E3FC;\n",
              "    }\n",
              "\n",
              "    [theme=dark] .colab-df-convert:hover {\n",
              "      background-color: #434B5C;\n",
              "      box-shadow: 0px 1px 3px 1px rgba(0, 0, 0, 0.15);\n",
              "      filter: drop-shadow(0px 1px 2px rgba(0, 0, 0, 0.3));\n",
              "      fill: #FFFFFF;\n",
              "    }\n",
              "  </style>\n",
              "\n",
              "      <script>\n",
              "        const buttonEl =\n",
              "          document.querySelector('#df-7e2e6b51-01b9-4874-819a-6813818f8b92 button.colab-df-convert');\n",
              "        buttonEl.style.display =\n",
              "          google.colab.kernel.accessAllowed ? 'block' : 'none';\n",
              "\n",
              "        async function convertToInteractive(key) {\n",
              "          const element = document.querySelector('#df-7e2e6b51-01b9-4874-819a-6813818f8b92');\n",
              "          const dataTable =\n",
              "            await google.colab.kernel.invokeFunction('convertToInteractive',\n",
              "                                                     [key], {});\n",
              "          if (!dataTable) return;\n",
              "\n",
              "          const docLinkHtml = 'Like what you see? Visit the ' +\n",
              "            '<a target=\"_blank\" href=https://colab.research.google.com/notebooks/data_table.ipynb>data table notebook</a>'\n",
              "            + ' to learn more about interactive tables.';\n",
              "          element.innerHTML = '';\n",
              "          dataTable['output_type'] = 'display_data';\n",
              "          await google.colab.output.renderOutput(dataTable, element);\n",
              "          const docLink = document.createElement('div');\n",
              "          docLink.innerHTML = docLinkHtml;\n",
              "          element.appendChild(docLink);\n",
              "        }\n",
              "      </script>\n",
              "    </div>\n",
              "  </div>\n",
              "  "
            ]
          },
          "metadata": {},
          "execution_count": 4
        }
      ]
    },
    {
      "cell_type": "markdown",
      "source": [
        "**Describing the dataset**"
      ],
      "metadata": {
        "id": "4I31KcVyVhw4"
      }
    },
    {
      "cell_type": "code",
      "source": [
        "d.describe()"
      ],
      "metadata": {
        "colab": {
          "base_uri": "https://localhost:8080/",
          "height": 300
        },
        "id": "_qM0-LoUUtYs",
        "outputId": "b9eff970-544a-4cd6-b834-7d73c7babfb7"
      },
      "execution_count": null,
      "outputs": [
        {
          "output_type": "execute_result",
          "data": {
            "text/plain": [
              "              Open         High          Low         Last       Close  \\\n",
              "count  2035.000000  2035.000000  2035.000000  2035.000000  2035.00000   \n",
              "mean    149.713735   151.992826   147.293931   149.474251   149.45027   \n",
              "std      48.664509    49.413109    47.931958    48.732570    48.71204   \n",
              "min      81.100000    82.800000    80.000000    81.000000    80.95000   \n",
              "25%     120.025000   122.100000   118.300000   120.075000   120.05000   \n",
              "50%     141.500000   143.400000   139.600000   141.100000   141.25000   \n",
              "75%     157.175000   159.400000   155.150000   156.925000   156.90000   \n",
              "max     327.700000   328.750000   321.650000   325.950000   325.75000   \n",
              "\n",
              "       Total Trade Quantity  Turnover (Lacs)  \n",
              "count          2.035000e+03      2035.000000  \n",
              "mean           2.335681e+06      3899.980565  \n",
              "std            2.091778e+06      4570.767877  \n",
              "min            3.961000e+04        37.040000  \n",
              "25%            1.146444e+06      1427.460000  \n",
              "50%            1.783456e+06      2512.030000  \n",
              "75%            2.813594e+06      4539.015000  \n",
              "max            2.919102e+07     55755.080000  "
            ],
            "text/html": [
              "\n",
              "  <div id=\"df-04f2da3e-6dcf-4b72-8319-d9db19f43823\">\n",
              "    <div class=\"colab-df-container\">\n",
              "      <div>\n",
              "<style scoped>\n",
              "    .dataframe tbody tr th:only-of-type {\n",
              "        vertical-align: middle;\n",
              "    }\n",
              "\n",
              "    .dataframe tbody tr th {\n",
              "        vertical-align: top;\n",
              "    }\n",
              "\n",
              "    .dataframe thead th {\n",
              "        text-align: right;\n",
              "    }\n",
              "</style>\n",
              "<table border=\"1\" class=\"dataframe\">\n",
              "  <thead>\n",
              "    <tr style=\"text-align: right;\">\n",
              "      <th></th>\n",
              "      <th>Open</th>\n",
              "      <th>High</th>\n",
              "      <th>Low</th>\n",
              "      <th>Last</th>\n",
              "      <th>Close</th>\n",
              "      <th>Total Trade Quantity</th>\n",
              "      <th>Turnover (Lacs)</th>\n",
              "    </tr>\n",
              "  </thead>\n",
              "  <tbody>\n",
              "    <tr>\n",
              "      <th>count</th>\n",
              "      <td>2035.000000</td>\n",
              "      <td>2035.000000</td>\n",
              "      <td>2035.000000</td>\n",
              "      <td>2035.000000</td>\n",
              "      <td>2035.00000</td>\n",
              "      <td>2.035000e+03</td>\n",
              "      <td>2035.000000</td>\n",
              "    </tr>\n",
              "    <tr>\n",
              "      <th>mean</th>\n",
              "      <td>149.713735</td>\n",
              "      <td>151.992826</td>\n",
              "      <td>147.293931</td>\n",
              "      <td>149.474251</td>\n",
              "      <td>149.45027</td>\n",
              "      <td>2.335681e+06</td>\n",
              "      <td>3899.980565</td>\n",
              "    </tr>\n",
              "    <tr>\n",
              "      <th>std</th>\n",
              "      <td>48.664509</td>\n",
              "      <td>49.413109</td>\n",
              "      <td>47.931958</td>\n",
              "      <td>48.732570</td>\n",
              "      <td>48.71204</td>\n",
              "      <td>2.091778e+06</td>\n",
              "      <td>4570.767877</td>\n",
              "    </tr>\n",
              "    <tr>\n",
              "      <th>min</th>\n",
              "      <td>81.100000</td>\n",
              "      <td>82.800000</td>\n",
              "      <td>80.000000</td>\n",
              "      <td>81.000000</td>\n",
              "      <td>80.95000</td>\n",
              "      <td>3.961000e+04</td>\n",
              "      <td>37.040000</td>\n",
              "    </tr>\n",
              "    <tr>\n",
              "      <th>25%</th>\n",
              "      <td>120.025000</td>\n",
              "      <td>122.100000</td>\n",
              "      <td>118.300000</td>\n",
              "      <td>120.075000</td>\n",
              "      <td>120.05000</td>\n",
              "      <td>1.146444e+06</td>\n",
              "      <td>1427.460000</td>\n",
              "    </tr>\n",
              "    <tr>\n",
              "      <th>50%</th>\n",
              "      <td>141.500000</td>\n",
              "      <td>143.400000</td>\n",
              "      <td>139.600000</td>\n",
              "      <td>141.100000</td>\n",
              "      <td>141.25000</td>\n",
              "      <td>1.783456e+06</td>\n",
              "      <td>2512.030000</td>\n",
              "    </tr>\n",
              "    <tr>\n",
              "      <th>75%</th>\n",
              "      <td>157.175000</td>\n",
              "      <td>159.400000</td>\n",
              "      <td>155.150000</td>\n",
              "      <td>156.925000</td>\n",
              "      <td>156.90000</td>\n",
              "      <td>2.813594e+06</td>\n",
              "      <td>4539.015000</td>\n",
              "    </tr>\n",
              "    <tr>\n",
              "      <th>max</th>\n",
              "      <td>327.700000</td>\n",
              "      <td>328.750000</td>\n",
              "      <td>321.650000</td>\n",
              "      <td>325.950000</td>\n",
              "      <td>325.75000</td>\n",
              "      <td>2.919102e+07</td>\n",
              "      <td>55755.080000</td>\n",
              "    </tr>\n",
              "  </tbody>\n",
              "</table>\n",
              "</div>\n",
              "      <button class=\"colab-df-convert\" onclick=\"convertToInteractive('df-04f2da3e-6dcf-4b72-8319-d9db19f43823')\"\n",
              "              title=\"Convert this dataframe to an interactive table.\"\n",
              "              style=\"display:none;\">\n",
              "        \n",
              "  <svg xmlns=\"http://www.w3.org/2000/svg\" height=\"24px\"viewBox=\"0 0 24 24\"\n",
              "       width=\"24px\">\n",
              "    <path d=\"M0 0h24v24H0V0z\" fill=\"none\"/>\n",
              "    <path d=\"M18.56 5.44l.94 2.06.94-2.06 2.06-.94-2.06-.94-.94-2.06-.94 2.06-2.06.94zm-11 1L8.5 8.5l.94-2.06 2.06-.94-2.06-.94L8.5 2.5l-.94 2.06-2.06.94zm10 10l.94 2.06.94-2.06 2.06-.94-2.06-.94-.94-2.06-.94 2.06-2.06.94z\"/><path d=\"M17.41 7.96l-1.37-1.37c-.4-.4-.92-.59-1.43-.59-.52 0-1.04.2-1.43.59L10.3 9.45l-7.72 7.72c-.78.78-.78 2.05 0 2.83L4 21.41c.39.39.9.59 1.41.59.51 0 1.02-.2 1.41-.59l7.78-7.78 2.81-2.81c.8-.78.8-2.07 0-2.86zM5.41 20L4 18.59l7.72-7.72 1.47 1.35L5.41 20z\"/>\n",
              "  </svg>\n",
              "      </button>\n",
              "      \n",
              "  <style>\n",
              "    .colab-df-container {\n",
              "      display:flex;\n",
              "      flex-wrap:wrap;\n",
              "      gap: 12px;\n",
              "    }\n",
              "\n",
              "    .colab-df-convert {\n",
              "      background-color: #E8F0FE;\n",
              "      border: none;\n",
              "      border-radius: 50%;\n",
              "      cursor: pointer;\n",
              "      display: none;\n",
              "      fill: #1967D2;\n",
              "      height: 32px;\n",
              "      padding: 0 0 0 0;\n",
              "      width: 32px;\n",
              "    }\n",
              "\n",
              "    .colab-df-convert:hover {\n",
              "      background-color: #E2EBFA;\n",
              "      box-shadow: 0px 1px 2px rgba(60, 64, 67, 0.3), 0px 1px 3px 1px rgba(60, 64, 67, 0.15);\n",
              "      fill: #174EA6;\n",
              "    }\n",
              "\n",
              "    [theme=dark] .colab-df-convert {\n",
              "      background-color: #3B4455;\n",
              "      fill: #D2E3FC;\n",
              "    }\n",
              "\n",
              "    [theme=dark] .colab-df-convert:hover {\n",
              "      background-color: #434B5C;\n",
              "      box-shadow: 0px 1px 3px 1px rgba(0, 0, 0, 0.15);\n",
              "      filter: drop-shadow(0px 1px 2px rgba(0, 0, 0, 0.3));\n",
              "      fill: #FFFFFF;\n",
              "    }\n",
              "  </style>\n",
              "\n",
              "      <script>\n",
              "        const buttonEl =\n",
              "          document.querySelector('#df-04f2da3e-6dcf-4b72-8319-d9db19f43823 button.colab-df-convert');\n",
              "        buttonEl.style.display =\n",
              "          google.colab.kernel.accessAllowed ? 'block' : 'none';\n",
              "\n",
              "        async function convertToInteractive(key) {\n",
              "          const element = document.querySelector('#df-04f2da3e-6dcf-4b72-8319-d9db19f43823');\n",
              "          const dataTable =\n",
              "            await google.colab.kernel.invokeFunction('convertToInteractive',\n",
              "                                                     [key], {});\n",
              "          if (!dataTable) return;\n",
              "\n",
              "          const docLinkHtml = 'Like what you see? Visit the ' +\n",
              "            '<a target=\"_blank\" href=https://colab.research.google.com/notebooks/data_table.ipynb>data table notebook</a>'\n",
              "            + ' to learn more about interactive tables.';\n",
              "          element.innerHTML = '';\n",
              "          dataTable['output_type'] = 'display_data';\n",
              "          await google.colab.output.renderOutput(dataTable, element);\n",
              "          const docLink = document.createElement('div');\n",
              "          docLink.innerHTML = docLinkHtml;\n",
              "          element.appendChild(docLink);\n",
              "        }\n",
              "      </script>\n",
              "    </div>\n",
              "  </div>\n",
              "  "
            ]
          },
          "metadata": {},
          "execution_count": 5
        }
      ]
    },
    {
      "cell_type": "code",
      "source": [
        "d.head()"
      ],
      "metadata": {
        "colab": {
          "base_uri": "https://localhost:8080/",
          "height": 206
        },
        "id": "LsOxhqXYUtb2",
        "outputId": "1f00dc28-8d2f-4b1b-e9cb-58a6771eae42"
      },
      "execution_count": null,
      "outputs": [
        {
          "output_type": "execute_result",
          "data": {
            "text/plain": [
              "         Date    Open    High     Low    Last   Close  Total Trade Quantity  \\\n",
              "0  2018-09-28  234.05  235.95  230.20  233.50  233.75               3069914   \n",
              "1  2018-09-27  234.55  236.80  231.10  233.80  233.25               5082859   \n",
              "2  2018-09-26  240.00  240.00  232.50  235.00  234.25               2240909   \n",
              "3  2018-09-25  233.30  236.75  232.00  236.25  236.10               2349368   \n",
              "4  2018-09-24  233.55  239.20  230.75  234.00  233.30               3423509   \n",
              "\n",
              "   Turnover (Lacs)  \n",
              "0          7162.35  \n",
              "1         11859.95  \n",
              "2          5248.60  \n",
              "3          5503.90  \n",
              "4          7999.55  "
            ],
            "text/html": [
              "\n",
              "  <div id=\"df-6a49069a-cf0e-4e2b-bb24-1cda425f2ab2\">\n",
              "    <div class=\"colab-df-container\">\n",
              "      <div>\n",
              "<style scoped>\n",
              "    .dataframe tbody tr th:only-of-type {\n",
              "        vertical-align: middle;\n",
              "    }\n",
              "\n",
              "    .dataframe tbody tr th {\n",
              "        vertical-align: top;\n",
              "    }\n",
              "\n",
              "    .dataframe thead th {\n",
              "        text-align: right;\n",
              "    }\n",
              "</style>\n",
              "<table border=\"1\" class=\"dataframe\">\n",
              "  <thead>\n",
              "    <tr style=\"text-align: right;\">\n",
              "      <th></th>\n",
              "      <th>Date</th>\n",
              "      <th>Open</th>\n",
              "      <th>High</th>\n",
              "      <th>Low</th>\n",
              "      <th>Last</th>\n",
              "      <th>Close</th>\n",
              "      <th>Total Trade Quantity</th>\n",
              "      <th>Turnover (Lacs)</th>\n",
              "    </tr>\n",
              "  </thead>\n",
              "  <tbody>\n",
              "    <tr>\n",
              "      <th>0</th>\n",
              "      <td>2018-09-28</td>\n",
              "      <td>234.05</td>\n",
              "      <td>235.95</td>\n",
              "      <td>230.20</td>\n",
              "      <td>233.50</td>\n",
              "      <td>233.75</td>\n",
              "      <td>3069914</td>\n",
              "      <td>7162.35</td>\n",
              "    </tr>\n",
              "    <tr>\n",
              "      <th>1</th>\n",
              "      <td>2018-09-27</td>\n",
              "      <td>234.55</td>\n",
              "      <td>236.80</td>\n",
              "      <td>231.10</td>\n",
              "      <td>233.80</td>\n",
              "      <td>233.25</td>\n",
              "      <td>5082859</td>\n",
              "      <td>11859.95</td>\n",
              "    </tr>\n",
              "    <tr>\n",
              "      <th>2</th>\n",
              "      <td>2018-09-26</td>\n",
              "      <td>240.00</td>\n",
              "      <td>240.00</td>\n",
              "      <td>232.50</td>\n",
              "      <td>235.00</td>\n",
              "      <td>234.25</td>\n",
              "      <td>2240909</td>\n",
              "      <td>5248.60</td>\n",
              "    </tr>\n",
              "    <tr>\n",
              "      <th>3</th>\n",
              "      <td>2018-09-25</td>\n",
              "      <td>233.30</td>\n",
              "      <td>236.75</td>\n",
              "      <td>232.00</td>\n",
              "      <td>236.25</td>\n",
              "      <td>236.10</td>\n",
              "      <td>2349368</td>\n",
              "      <td>5503.90</td>\n",
              "    </tr>\n",
              "    <tr>\n",
              "      <th>4</th>\n",
              "      <td>2018-09-24</td>\n",
              "      <td>233.55</td>\n",
              "      <td>239.20</td>\n",
              "      <td>230.75</td>\n",
              "      <td>234.00</td>\n",
              "      <td>233.30</td>\n",
              "      <td>3423509</td>\n",
              "      <td>7999.55</td>\n",
              "    </tr>\n",
              "  </tbody>\n",
              "</table>\n",
              "</div>\n",
              "      <button class=\"colab-df-convert\" onclick=\"convertToInteractive('df-6a49069a-cf0e-4e2b-bb24-1cda425f2ab2')\"\n",
              "              title=\"Convert this dataframe to an interactive table.\"\n",
              "              style=\"display:none;\">\n",
              "        \n",
              "  <svg xmlns=\"http://www.w3.org/2000/svg\" height=\"24px\"viewBox=\"0 0 24 24\"\n",
              "       width=\"24px\">\n",
              "    <path d=\"M0 0h24v24H0V0z\" fill=\"none\"/>\n",
              "    <path d=\"M18.56 5.44l.94 2.06.94-2.06 2.06-.94-2.06-.94-.94-2.06-.94 2.06-2.06.94zm-11 1L8.5 8.5l.94-2.06 2.06-.94-2.06-.94L8.5 2.5l-.94 2.06-2.06.94zm10 10l.94 2.06.94-2.06 2.06-.94-2.06-.94-.94-2.06-.94 2.06-2.06.94z\"/><path d=\"M17.41 7.96l-1.37-1.37c-.4-.4-.92-.59-1.43-.59-.52 0-1.04.2-1.43.59L10.3 9.45l-7.72 7.72c-.78.78-.78 2.05 0 2.83L4 21.41c.39.39.9.59 1.41.59.51 0 1.02-.2 1.41-.59l7.78-7.78 2.81-2.81c.8-.78.8-2.07 0-2.86zM5.41 20L4 18.59l7.72-7.72 1.47 1.35L5.41 20z\"/>\n",
              "  </svg>\n",
              "      </button>\n",
              "      \n",
              "  <style>\n",
              "    .colab-df-container {\n",
              "      display:flex;\n",
              "      flex-wrap:wrap;\n",
              "      gap: 12px;\n",
              "    }\n",
              "\n",
              "    .colab-df-convert {\n",
              "      background-color: #E8F0FE;\n",
              "      border: none;\n",
              "      border-radius: 50%;\n",
              "      cursor: pointer;\n",
              "      display: none;\n",
              "      fill: #1967D2;\n",
              "      height: 32px;\n",
              "      padding: 0 0 0 0;\n",
              "      width: 32px;\n",
              "    }\n",
              "\n",
              "    .colab-df-convert:hover {\n",
              "      background-color: #E2EBFA;\n",
              "      box-shadow: 0px 1px 2px rgba(60, 64, 67, 0.3), 0px 1px 3px 1px rgba(60, 64, 67, 0.15);\n",
              "      fill: #174EA6;\n",
              "    }\n",
              "\n",
              "    [theme=dark] .colab-df-convert {\n",
              "      background-color: #3B4455;\n",
              "      fill: #D2E3FC;\n",
              "    }\n",
              "\n",
              "    [theme=dark] .colab-df-convert:hover {\n",
              "      background-color: #434B5C;\n",
              "      box-shadow: 0px 1px 3px 1px rgba(0, 0, 0, 0.15);\n",
              "      filter: drop-shadow(0px 1px 2px rgba(0, 0, 0, 0.3));\n",
              "      fill: #FFFFFF;\n",
              "    }\n",
              "  </style>\n",
              "\n",
              "      <script>\n",
              "        const buttonEl =\n",
              "          document.querySelector('#df-6a49069a-cf0e-4e2b-bb24-1cda425f2ab2 button.colab-df-convert');\n",
              "        buttonEl.style.display =\n",
              "          google.colab.kernel.accessAllowed ? 'block' : 'none';\n",
              "\n",
              "        async function convertToInteractive(key) {\n",
              "          const element = document.querySelector('#df-6a49069a-cf0e-4e2b-bb24-1cda425f2ab2');\n",
              "          const dataTable =\n",
              "            await google.colab.kernel.invokeFunction('convertToInteractive',\n",
              "                                                     [key], {});\n",
              "          if (!dataTable) return;\n",
              "\n",
              "          const docLinkHtml = 'Like what you see? Visit the ' +\n",
              "            '<a target=\"_blank\" href=https://colab.research.google.com/notebooks/data_table.ipynb>data table notebook</a>'\n",
              "            + ' to learn more about interactive tables.';\n",
              "          element.innerHTML = '';\n",
              "          dataTable['output_type'] = 'display_data';\n",
              "          await google.colab.output.renderOutput(dataTable, element);\n",
              "          const docLink = document.createElement('div');\n",
              "          docLink.innerHTML = docLinkHtml;\n",
              "          element.appendChild(docLink);\n",
              "        }\n",
              "      </script>\n",
              "    </div>\n",
              "  </div>\n",
              "  "
            ]
          },
          "metadata": {},
          "execution_count": 6
        }
      ]
    },
    {
      "cell_type": "code",
      "source": [
        "d.tail()"
      ],
      "metadata": {
        "colab": {
          "base_uri": "https://localhost:8080/",
          "height": 206
        },
        "id": "J1avx2mhUtgH",
        "outputId": "712cef25-804c-47e7-d074-6f891d9e8489"
      },
      "execution_count": null,
      "outputs": [
        {
          "output_type": "execute_result",
          "data": {
            "text/plain": [
              "            Date   Open    High     Low    Last   Close  Total Trade Quantity  \\\n",
              "2030  2010-07-27  117.6  119.50  112.00  118.80  118.65                586100   \n",
              "2031  2010-07-26  120.1  121.00  117.10  117.10  117.60                658440   \n",
              "2032  2010-07-23  121.8  121.95  120.25  120.35  120.65                281312   \n",
              "2033  2010-07-22  120.3  122.00  120.25  120.75  120.90                293312   \n",
              "2034  2010-07-21  122.1  123.00  121.05  121.10  121.55                658666   \n",
              "\n",
              "      Turnover (Lacs)  \n",
              "2030           694.98  \n",
              "2031           780.01  \n",
              "2032           340.31  \n",
              "2033           355.17  \n",
              "2034           803.56  "
            ],
            "text/html": [
              "\n",
              "  <div id=\"df-dcdab9fd-4eff-4c33-9321-24b0536da526\">\n",
              "    <div class=\"colab-df-container\">\n",
              "      <div>\n",
              "<style scoped>\n",
              "    .dataframe tbody tr th:only-of-type {\n",
              "        vertical-align: middle;\n",
              "    }\n",
              "\n",
              "    .dataframe tbody tr th {\n",
              "        vertical-align: top;\n",
              "    }\n",
              "\n",
              "    .dataframe thead th {\n",
              "        text-align: right;\n",
              "    }\n",
              "</style>\n",
              "<table border=\"1\" class=\"dataframe\">\n",
              "  <thead>\n",
              "    <tr style=\"text-align: right;\">\n",
              "      <th></th>\n",
              "      <th>Date</th>\n",
              "      <th>Open</th>\n",
              "      <th>High</th>\n",
              "      <th>Low</th>\n",
              "      <th>Last</th>\n",
              "      <th>Close</th>\n",
              "      <th>Total Trade Quantity</th>\n",
              "      <th>Turnover (Lacs)</th>\n",
              "    </tr>\n",
              "  </thead>\n",
              "  <tbody>\n",
              "    <tr>\n",
              "      <th>2030</th>\n",
              "      <td>2010-07-27</td>\n",
              "      <td>117.6</td>\n",
              "      <td>119.50</td>\n",
              "      <td>112.00</td>\n",
              "      <td>118.80</td>\n",
              "      <td>118.65</td>\n",
              "      <td>586100</td>\n",
              "      <td>694.98</td>\n",
              "    </tr>\n",
              "    <tr>\n",
              "      <th>2031</th>\n",
              "      <td>2010-07-26</td>\n",
              "      <td>120.1</td>\n",
              "      <td>121.00</td>\n",
              "      <td>117.10</td>\n",
              "      <td>117.10</td>\n",
              "      <td>117.60</td>\n",
              "      <td>658440</td>\n",
              "      <td>780.01</td>\n",
              "    </tr>\n",
              "    <tr>\n",
              "      <th>2032</th>\n",
              "      <td>2010-07-23</td>\n",
              "      <td>121.8</td>\n",
              "      <td>121.95</td>\n",
              "      <td>120.25</td>\n",
              "      <td>120.35</td>\n",
              "      <td>120.65</td>\n",
              "      <td>281312</td>\n",
              "      <td>340.31</td>\n",
              "    </tr>\n",
              "    <tr>\n",
              "      <th>2033</th>\n",
              "      <td>2010-07-22</td>\n",
              "      <td>120.3</td>\n",
              "      <td>122.00</td>\n",
              "      <td>120.25</td>\n",
              "      <td>120.75</td>\n",
              "      <td>120.90</td>\n",
              "      <td>293312</td>\n",
              "      <td>355.17</td>\n",
              "    </tr>\n",
              "    <tr>\n",
              "      <th>2034</th>\n",
              "      <td>2010-07-21</td>\n",
              "      <td>122.1</td>\n",
              "      <td>123.00</td>\n",
              "      <td>121.05</td>\n",
              "      <td>121.10</td>\n",
              "      <td>121.55</td>\n",
              "      <td>658666</td>\n",
              "      <td>803.56</td>\n",
              "    </tr>\n",
              "  </tbody>\n",
              "</table>\n",
              "</div>\n",
              "      <button class=\"colab-df-convert\" onclick=\"convertToInteractive('df-dcdab9fd-4eff-4c33-9321-24b0536da526')\"\n",
              "              title=\"Convert this dataframe to an interactive table.\"\n",
              "              style=\"display:none;\">\n",
              "        \n",
              "  <svg xmlns=\"http://www.w3.org/2000/svg\" height=\"24px\"viewBox=\"0 0 24 24\"\n",
              "       width=\"24px\">\n",
              "    <path d=\"M0 0h24v24H0V0z\" fill=\"none\"/>\n",
              "    <path d=\"M18.56 5.44l.94 2.06.94-2.06 2.06-.94-2.06-.94-.94-2.06-.94 2.06-2.06.94zm-11 1L8.5 8.5l.94-2.06 2.06-.94-2.06-.94L8.5 2.5l-.94 2.06-2.06.94zm10 10l.94 2.06.94-2.06 2.06-.94-2.06-.94-.94-2.06-.94 2.06-2.06.94z\"/><path d=\"M17.41 7.96l-1.37-1.37c-.4-.4-.92-.59-1.43-.59-.52 0-1.04.2-1.43.59L10.3 9.45l-7.72 7.72c-.78.78-.78 2.05 0 2.83L4 21.41c.39.39.9.59 1.41.59.51 0 1.02-.2 1.41-.59l7.78-7.78 2.81-2.81c.8-.78.8-2.07 0-2.86zM5.41 20L4 18.59l7.72-7.72 1.47 1.35L5.41 20z\"/>\n",
              "  </svg>\n",
              "      </button>\n",
              "      \n",
              "  <style>\n",
              "    .colab-df-container {\n",
              "      display:flex;\n",
              "      flex-wrap:wrap;\n",
              "      gap: 12px;\n",
              "    }\n",
              "\n",
              "    .colab-df-convert {\n",
              "      background-color: #E8F0FE;\n",
              "      border: none;\n",
              "      border-radius: 50%;\n",
              "      cursor: pointer;\n",
              "      display: none;\n",
              "      fill: #1967D2;\n",
              "      height: 32px;\n",
              "      padding: 0 0 0 0;\n",
              "      width: 32px;\n",
              "    }\n",
              "\n",
              "    .colab-df-convert:hover {\n",
              "      background-color: #E2EBFA;\n",
              "      box-shadow: 0px 1px 2px rgba(60, 64, 67, 0.3), 0px 1px 3px 1px rgba(60, 64, 67, 0.15);\n",
              "      fill: #174EA6;\n",
              "    }\n",
              "\n",
              "    [theme=dark] .colab-df-convert {\n",
              "      background-color: #3B4455;\n",
              "      fill: #D2E3FC;\n",
              "    }\n",
              "\n",
              "    [theme=dark] .colab-df-convert:hover {\n",
              "      background-color: #434B5C;\n",
              "      box-shadow: 0px 1px 3px 1px rgba(0, 0, 0, 0.15);\n",
              "      filter: drop-shadow(0px 1px 2px rgba(0, 0, 0, 0.3));\n",
              "      fill: #FFFFFF;\n",
              "    }\n",
              "  </style>\n",
              "\n",
              "      <script>\n",
              "        const buttonEl =\n",
              "          document.querySelector('#df-dcdab9fd-4eff-4c33-9321-24b0536da526 button.colab-df-convert');\n",
              "        buttonEl.style.display =\n",
              "          google.colab.kernel.accessAllowed ? 'block' : 'none';\n",
              "\n",
              "        async function convertToInteractive(key) {\n",
              "          const element = document.querySelector('#df-dcdab9fd-4eff-4c33-9321-24b0536da526');\n",
              "          const dataTable =\n",
              "            await google.colab.kernel.invokeFunction('convertToInteractive',\n",
              "                                                     [key], {});\n",
              "          if (!dataTable) return;\n",
              "\n",
              "          const docLinkHtml = 'Like what you see? Visit the ' +\n",
              "            '<a target=\"_blank\" href=https://colab.research.google.com/notebooks/data_table.ipynb>data table notebook</a>'\n",
              "            + ' to learn more about interactive tables.';\n",
              "          element.innerHTML = '';\n",
              "          dataTable['output_type'] = 'display_data';\n",
              "          await google.colab.output.renderOutput(dataTable, element);\n",
              "          const docLink = document.createElement('div');\n",
              "          docLink.innerHTML = docLinkHtml;\n",
              "          element.appendChild(docLink);\n",
              "        }\n",
              "      </script>\n",
              "    </div>\n",
              "  </div>\n",
              "  "
            ]
          },
          "metadata": {},
          "execution_count": 7
        }
      ]
    },
    {
      "cell_type": "code",
      "source": [
        "d.dtypes"
      ],
      "metadata": {
        "colab": {
          "base_uri": "https://localhost:8080/"
        },
        "id": "1rJ2AfIHUtjU",
        "outputId": "bfa22ae4-8e24-4abb-c1c8-b33e50105820"
      },
      "execution_count": null,
      "outputs": [
        {
          "output_type": "execute_result",
          "data": {
            "text/plain": [
              "Date                     object\n",
              "Open                    float64\n",
              "High                    float64\n",
              "Low                     float64\n",
              "Last                    float64\n",
              "Close                   float64\n",
              "Total Trade Quantity      int64\n",
              "Turnover (Lacs)         float64\n",
              "dtype: object"
            ]
          },
          "metadata": {},
          "execution_count": 8
        }
      ]
    },
    {
      "cell_type": "code",
      "source": [
        "plt.figure(figsize=(20,8))\n",
        "d.plot()"
      ],
      "metadata": {
        "colab": {
          "base_uri": "https://localhost:8080/",
          "height": 311
        },
        "id": "2ka1S65vUtmQ",
        "outputId": "3b93a0c0-6d1b-491c-b56b-0906574540a5"
      },
      "execution_count": null,
      "outputs": [
        {
          "output_type": "execute_result",
          "data": {
            "text/plain": [
              "<matplotlib.axes._subplots.AxesSubplot at 0x7fe1aee30950>"
            ]
          },
          "metadata": {},
          "execution_count": 9
        },
        {
          "output_type": "display_data",
          "data": {
            "text/plain": [
              "<Figure size 1440x576 with 0 Axes>"
            ]
          },
          "metadata": {}
        },
        {
          "output_type": "display_data",
          "data": {
            "text/plain": [
              "<Figure size 432x288 with 1 Axes>"
            ],
            "image/png": "[encoded data removed]"
          },
          "metadata": {
            "needs_background": "light"
          }
        }
      ]
    },
    {
      "cell_type": "code",
      "source": [
        "d['Date'].value_counts()"
      ],
      "metadata": {
        "colab": {
          "base_uri": "https://localhost:8080/"
        },
        "id": "WK_mn05gUtps",
        "outputId": "6fa97ea5-23be-4df5-996c-242250420ab3"
      },
      "execution_count": null,
      "outputs": [
        {
          "output_type": "execute_result",
          "data": {
            "text/plain": [
              "2018-09-28    1\n",
              "2013-04-10    1\n",
              "2013-03-20    1\n",
              "2013-03-21    1\n",
              "2013-03-22    1\n",
              "             ..\n",
              "2016-01-11    1\n",
              "2016-01-12    1\n",
              "2016-01-13    1\n",
              "2016-01-14    1\n",
              "2010-07-21    1\n",
              "Name: Date, Length: 2035, dtype: int64"
            ]
          },
          "metadata": {},
          "execution_count": 10
        }
      ]
    },
    {
      "cell_type": "code",
      "source": [
        "d[\"Date\"]"
      ],
      "metadata": {
        "colab": {
          "base_uri": "https://localhost:8080/"
        },
        "id": "2eKTF0pPUts7",
        "outputId": "a30d5ff7-14d0-4949-ed0b-7a47116764d9"
      },
      "execution_count": null,
      "outputs": [
        {
          "output_type": "execute_result",
          "data": {
            "text/plain": [
              "0       2018-09-28\n",
              "1       2018-09-27\n",
              "2       2018-09-26\n",
              "3       2018-09-25\n",
              "4       2018-09-24\n",
              "           ...    \n",
              "2030    2010-07-27\n",
              "2031    2010-07-26\n",
              "2032    2010-07-23\n",
              "2033    2010-07-22\n",
              "2034    2010-07-21\n",
              "Name: Date, Length: 2035, dtype: object"
            ]
          },
          "metadata": {},
          "execution_count": 11
        }
      ]
    },
    {
      "cell_type": "code",
      "source": [
        "d[\"Date\"]=pd.to_datetime(d[\"Date\"])"
      ],
      "metadata": {
        "id": "D1cVYyQrUtwK"
      },
      "execution_count": null,
      "outputs": []
    },
    {
      "cell_type": "code",
      "source": [
        "d[\"Date\"]"
      ],
      "metadata": {
        "colab": {
          "base_uri": "https://localhost:8080/"
        },
        "id": "ABtdfgBSUty0",
        "outputId": "f3be7085-587e-4ec2-a223-254ebbd8cf7d"
      },
      "execution_count": null,
      "outputs": [
        {
          "output_type": "execute_result",
          "data": {
            "text/plain": [
              "0      2018-09-28\n",
              "1      2018-09-27\n",
              "2      2018-09-26\n",
              "3      2018-09-25\n",
              "4      2018-09-24\n",
              "          ...    \n",
              "2030   2010-07-27\n",
              "2031   2010-07-26\n",
              "2032   2010-07-23\n",
              "2033   2010-07-22\n",
              "2034   2010-07-21\n",
              "Name: Date, Length: 2035, dtype: datetime64[ns]"
            ]
          },
          "metadata": {},
          "execution_count": 13
        }
      ]
    },
    {
      "cell_type": "code",
      "source": [
        "d=d.sort_values(by=\"Date\")"
      ],
      "metadata": {
        "id": "szQglVzuUt2M"
      },
      "execution_count": null,
      "outputs": []
    },
    {
      "cell_type": "code",
      "source": [
        "d"
      ],
      "metadata": {
        "colab": {
          "base_uri": "https://localhost:8080/",
          "height": 424
        },
        "id": "OxOmy-70Ut5F",
        "outputId": "d64cce4c-c888-4626-a5e7-7c4d6f6f3063"
      },
      "execution_count": null,
      "outputs": [
        {
          "output_type": "execute_result",
          "data": {
            "text/plain": [
              "           Date    Open    High     Low    Last   Close  Total Trade Quantity  \\\n",
              "2034 2010-07-21  122.10  123.00  121.05  121.10  121.55                658666   \n",
              "2033 2010-07-22  120.30  122.00  120.25  120.75  120.90                293312   \n",
              "2032 2010-07-23  121.80  121.95  120.25  120.35  120.65                281312   \n",
              "2031 2010-07-26  120.10  121.00  117.10  117.10  117.60                658440   \n",
              "2030 2010-07-27  117.60  119.50  112.00  118.80  118.65                586100   \n",
              "...         ...     ...     ...     ...     ...     ...                   ...   \n",
              "4    2018-09-24  233.55  239.20  230.75  234.00  233.30               3423509   \n",
              "3    2018-09-25  233.30  236.75  232.00  236.25  236.10               2349368   \n",
              "2    2018-09-26  240.00  240.00  232.50  235.00  234.25               2240909   \n",
              "1    2018-09-27  234.55  236.80  231.10  233.80  233.25               5082859   \n",
              "0    2018-09-28  234.05  235.95  230.20  233.50  233.75               3069914   \n",
              "\n",
              "      Turnover (Lacs)  \n",
              "2034           803.56  \n",
              "2033           355.17  \n",
              "2032           340.31  \n",
              "2031           780.01  \n",
              "2030           694.98  \n",
              "...               ...  \n",
              "4             7999.55  \n",
              "3             5503.90  \n",
              "2             5248.60  \n",
              "1            11859.95  \n",
              "0             7162.35  \n",
              "\n",
              "[2035 rows x 8 columns]"
            ],
            "text/html": [
              "\n",
              "  <div id=\"df-ed1c6e94-26f0-4325-a3e8-a39f2931bb5f\">\n",
              "    <div class=\"colab-df-container\">\n",
              "      <div>\n",
              "<style scoped>\n",
              "    .dataframe tbody tr th:only-of-type {\n",
              "        vertical-align: middle;\n",
              "    }\n",
              "\n",
              "    .dataframe tbody tr th {\n",
              "        vertical-align: top;\n",
              "    }\n",
              "\n",
              "    .dataframe thead th {\n",
              "        text-align: right;\n",
              "    }\n",
              "</style>\n",
              "<table border=\"1\" class=\"dataframe\">\n",
              "  <thead>\n",
              "    <tr style=\"text-align: right;\">\n",
              "      <th></th>\n",
              "      <th>Date</th>\n",
              "      <th>Open</th>\n",
              "      <th>High</th>\n",
              "      <th>Low</th>\n",
              "      <th>Last</th>\n",
              "      <th>Close</th>\n",
              "      <th>Total Trade Quantity</th>\n",
              "      <th>Turnover (Lacs)</th>\n",
              "    </tr>\n",
              "  </thead>\n",
              "  <tbody>\n",
              "    <tr>\n",
              "      <th>2034</th>\n",
              "      <td>2010-07-21</td>\n",
              "      <td>122.10</td>\n",
              "      <td>123.00</td>\n",
              "      <td>121.05</td>\n",
              "      <td>121.10</td>\n",
              "      <td>121.55</td>\n",
              "      <td>658666</td>\n",
              "      <td>803.56</td>\n",
              "    </tr>\n",
              "    <tr>\n",
              "      <th>2033</th>\n",
              "      <td>2010-07-22</td>\n",
              "      <td>120.30</td>\n",
              "      <td>122.00</td>\n",
              "      <td>120.25</td>\n",
              "      <td>120.75</td>\n",
              "      <td>120.90</td>\n",
              "      <td>293312</td>\n",
              "      <td>355.17</td>\n",
              "    </tr>\n",
              "    <tr>\n",
              "      <th>2032</th>\n",
              "      <td>2010-07-23</td>\n",
              "      <td>121.80</td>\n",
              "      <td>121.95</td>\n",
              "      <td>120.25</td>\n",
              "      <td>120.35</td>\n",
              "      <td>120.65</td>\n",
              "      <td>281312</td>\n",
              "      <td>340.31</td>\n",
              "    </tr>\n",
              "    <tr>\n",
              "      <th>2031</th>\n",
              "      <td>2010-07-26</td>\n",
              "      <td>120.10</td>\n",
              "      <td>121.00</td>\n",
              "      <td>117.10</td>\n",
              "      <td>117.10</td>\n",
              "      <td>117.60</td>\n",
              "      <td>658440</td>\n",
              "      <td>780.01</td>\n",
              "    </tr>\n",
              "    <tr>\n",
              "      <th>2030</th>\n",
              "      <td>2010-07-27</td>\n",
              "      <td>117.60</td>\n",
              "      <td>119.50</td>\n",
              "      <td>112.00</td>\n",
              "      <td>118.80</td>\n",
              "      <td>118.65</td>\n",
              "      <td>586100</td>\n",
              "      <td>694.98</td>\n",
              "    </tr>\n",
              "    <tr>\n",
              "      <th>...</th>\n",
              "      <td>...</td>\n",
              "      <td>...</td>\n",
              "      <td>...</td>\n",
              "      <td>...</td>\n",
              "      <td>...</td>\n",
              "      <td>...</td>\n",
              "      <td>...</td>\n",
              "      <td>...</td>\n",
              "    </tr>\n",
              "    <tr>\n",
              "      <th>4</th>\n",
              "      <td>2018-09-24</td>\n",
              "      <td>233.55</td>\n",
              "      <td>239.20</td>\n",
              "      <td>230.75</td>\n",
              "      <td>234.00</td>\n",
              "      <td>233.30</td>\n",
              "      <td>3423509</td>\n",
              "      <td>7999.55</td>\n",
              "    </tr>\n",
              "    <tr>\n",
              "      <th>3</th>\n",
              "      <td>2018-09-25</td>\n",
              "      <td>233.30</td>\n",
              "      <td>236.75</td>\n",
              "      <td>232.00</td>\n",
              "      <td>236.25</td>\n",
              "      <td>236.10</td>\n",
              "      <td>2349368</td>\n",
              "      <td>5503.90</td>\n",
              "    </tr>\n",
              "    <tr>\n",
              "      <th>2</th>\n",
              "      <td>2018-09-26</td>\n",
              "      <td>240.00</td>\n",
              "      <td>240.00</td>\n",
              "      <td>232.50</td>\n",
              "      <td>235.00</td>\n",
              "      <td>234.25</td>\n",
              "      <td>2240909</td>\n",
              "      <td>5248.60</td>\n",
              "    </tr>\n",
              "    <tr>\n",
              "      <th>1</th>\n",
              "      <td>2018-09-27</td>\n",
              "      <td>234.55</td>\n",
              "      <td>236.80</td>\n",
              "      <td>231.10</td>\n",
              "      <td>233.80</td>\n",
              "      <td>233.25</td>\n",
              "      <td>5082859</td>\n",
              "      <td>11859.95</td>\n",
              "    </tr>\n",
              "    <tr>\n",
              "      <th>0</th>\n",
              "      <td>2018-09-28</td>\n",
              "      <td>234.05</td>\n",
              "      <td>235.95</td>\n",
              "      <td>230.20</td>\n",
              "      <td>233.50</td>\n",
              "      <td>233.75</td>\n",
              "      <td>3069914</td>\n",
              "      <td>7162.35</td>\n",
              "    </tr>\n",
              "  </tbody>\n",
              "</table>\n",
              "<p>2035 rows × 8 columns</p>\n",
              "</div>\n",
              "      <button class=\"colab-df-convert\" onclick=\"convertToInteractive('df-ed1c6e94-26f0-4325-a3e8-a39f2931bb5f')\"\n",
              "              title=\"Convert this dataframe to an interactive table.\"\n",
              "              style=\"display:none;\">\n",
              "        \n",
              "  <svg xmlns=\"http://www.w3.org/2000/svg\" height=\"24px\"viewBox=\"0 0 24 24\"\n",
              "       width=\"24px\">\n",
              "    <path d=\"M0 0h24v24H0V0z\" fill=\"none\"/>\n",
              "    <path d=\"M18.56 5.44l.94 2.06.94-2.06 2.06-.94-2.06-.94-.94-2.06-.94 2.06-2.06.94zm-11 1L8.5 8.5l.94-2.06 2.06-.94-2.06-.94L8.5 2.5l-.94 2.06-2.06.94zm10 10l.94 2.06.94-2.06 2.06-.94-2.06-.94-.94-2.06-.94 2.06-2.06.94z\"/><path d=\"M17.41 7.96l-1.37-1.37c-.4-.4-.92-.59-1.43-.59-.52 0-1.04.2-1.43.59L10.3 9.45l-7.72 7.72c-.78.78-.78 2.05 0 2.83L4 21.41c.39.39.9.59 1.41.59.51 0 1.02-.2 1.41-.59l7.78-7.78 2.81-2.81c.8-.78.8-2.07 0-2.86zM5.41 20L4 18.59l7.72-7.72 1.47 1.35L5.41 20z\"/>\n",
              "  </svg>\n",
              "      </button>\n",
              "      \n",
              "  <style>\n",
              "    .colab-df-container {\n",
              "      display:flex;\n",
              "      flex-wrap:wrap;\n",
              "      gap: 12px;\n",
              "    }\n",
              "\n",
              "    .colab-df-convert {\n",
              "      background-color: #E8F0FE;\n",
              "      border: none;\n",
              "      border-radius: 50%;\n",
              "      cursor: pointer;\n",
              "      display: none;\n",
              "      fill: #1967D2;\n",
              "      height: 32px;\n",
              "      padding: 0 0 0 0;\n",
              "      width: 32px;\n",
              "    }\n",
              "\n",
              "    .colab-df-convert:hover {\n",
              "      background-color: #E2EBFA;\n",
              "      box-shadow: 0px 1px 2px rgba(60, 64, 67, 0.3), 0px 1px 3px 1px rgba(60, 64, 67, 0.15);\n",
              "      fill: #174EA6;\n",
              "    }\n",
              "\n",
              "    [theme=dark] .colab-df-convert {\n",
              "      background-color: #3B4455;\n",
              "      fill: #D2E3FC;\n",
              "    }\n",
              "\n",
              "    [theme=dark] .colab-df-convert:hover {\n",
              "      background-color: #434B5C;\n",
              "      box-shadow: 0px 1px 3px 1px rgba(0, 0, 0, 0.15);\n",
              "      filter: drop-shadow(0px 1px 2px rgba(0, 0, 0, 0.3));\n",
              "      fill: #FFFFFF;\n",
              "    }\n",
              "  </style>\n",
              "\n",
              "      <script>\n",
              "        const buttonEl =\n",
              "          document.querySelector('#df-ed1c6e94-26f0-4325-a3e8-a39f2931bb5f button.colab-df-convert');\n",
              "        buttonEl.style.display =\n",
              "          google.colab.kernel.accessAllowed ? 'block' : 'none';\n",
              "\n",
              "        async function convertToInteractive(key) {\n",
              "          const element = document.querySelector('#df-ed1c6e94-26f0-4325-a3e8-a39f2931bb5f');\n",
              "          const dataTable =\n",
              "            await google.colab.kernel.invokeFunction('convertToInteractive',\n",
              "                                                     [key], {});\n",
              "          if (!dataTable) return;\n",
              "\n",
              "          const docLinkHtml = 'Like what you see? Visit the ' +\n",
              "            '<a target=\"_blank\" href=https://colab.research.google.com/notebooks/data_table.ipynb>data table notebook</a>'\n",
              "            + ' to learn more about interactive tables.';\n",
              "          element.innerHTML = '';\n",
              "          dataTable['output_type'] = 'display_data';\n",
              "          await google.colab.output.renderOutput(dataTable, element);\n",
              "          const docLink = document.createElement('div');\n",
              "          docLink.innerHTML = docLinkHtml;\n",
              "          element.appendChild(docLink);\n",
              "        }\n",
              "      </script>\n",
              "    </div>\n",
              "  </div>\n",
              "  "
            ]
          },
          "metadata": {},
          "execution_count": 15
        }
      ]
    },
    {
      "cell_type": "code",
      "source": [
        "d.reset_index(inplace=True)"
      ],
      "metadata": {
        "id": "x7JgGSHrUt_r"
      },
      "execution_count": null,
      "outputs": []
    },
    {
      "cell_type": "code",
      "source": [
        "d"
      ],
      "metadata": {
        "colab": {
          "base_uri": "https://localhost:8080/",
          "height": 424
        },
        "id": "G_OsEdgkWRGF",
        "outputId": "d083a56f-63c3-435b-9f75-44757d4f0dfd"
      },
      "execution_count": null,
      "outputs": [
        {
          "output_type": "execute_result",
          "data": {
            "text/plain": [
              "      index       Date    Open    High     Low    Last   Close  \\\n",
              "0      2034 2010-07-21  122.10  123.00  121.05  121.10  121.55   \n",
              "1      2033 2010-07-22  120.30  122.00  120.25  120.75  120.90   \n",
              "2      2032 2010-07-23  121.80  121.95  120.25  120.35  120.65   \n",
              "3      2031 2010-07-26  120.10  121.00  117.10  117.10  117.60   \n",
              "4      2030 2010-07-27  117.60  119.50  112.00  118.80  118.65   \n",
              "...     ...        ...     ...     ...     ...     ...     ...   \n",
              "2030      4 2018-09-24  233.55  239.20  230.75  234.00  233.30   \n",
              "2031      3 2018-09-25  233.30  236.75  232.00  236.25  236.10   \n",
              "2032      2 2018-09-26  240.00  240.00  232.50  235.00  234.25   \n",
              "2033      1 2018-09-27  234.55  236.80  231.10  233.80  233.25   \n",
              "2034      0 2018-09-28  234.05  235.95  230.20  233.50  233.75   \n",
              "\n",
              "      Total Trade Quantity  Turnover (Lacs)  \n",
              "0                   658666           803.56  \n",
              "1                   293312           355.17  \n",
              "2                   281312           340.31  \n",
              "3                   658440           780.01  \n",
              "4                   586100           694.98  \n",
              "...                    ...              ...  \n",
              "2030               3423509          7999.55  \n",
              "2031               2349368          5503.90  \n",
              "2032               2240909          5248.60  \n",
              "2033               5082859         11859.95  \n",
              "2034               3069914          7162.35  \n",
              "\n",
              "[2035 rows x 9 columns]"
            ],
            "text/html": [
              "\n",
              "  <div id=\"df-406b126f-917d-40ff-98d5-0cc9f58c7b42\">\n",
              "    <div class=\"colab-df-container\">\n",
              "      <div>\n",
              "<style scoped>\n",
              "    .dataframe tbody tr th:only-of-type {\n",
              "        vertical-align: middle;\n",
              "    }\n",
              "\n",
              "    .dataframe tbody tr th {\n",
              "        vertical-align: top;\n",
              "    }\n",
              "\n",
              "    .dataframe thead th {\n",
              "        text-align: right;\n",
              "    }\n",
              "</style>\n",
              "<table border=\"1\" class=\"dataframe\">\n",
              "  <thead>\n",
              "    <tr style=\"text-align: right;\">\n",
              "      <th></th>\n",
              "      <th>index</th>\n",
              "      <th>Date</th>\n",
              "      <th>Open</th>\n",
              "      <th>High</th>\n",
              "      <th>Low</th>\n",
              "      <th>Last</th>\n",
              "      <th>Close</th>\n",
              "      <th>Total Trade Quantity</th>\n",
              "      <th>Turnover (Lacs)</th>\n",
              "    </tr>\n",
              "  </thead>\n",
              "  <tbody>\n",
              "    <tr>\n",
              "      <th>0</th>\n",
              "      <td>2034</td>\n",
              "      <td>2010-07-21</td>\n",
              "      <td>122.10</td>\n",
              "      <td>123.00</td>\n",
              "      <td>121.05</td>\n",
              "      <td>121.10</td>\n",
              "      <td>121.55</td>\n",
              "      <td>658666</td>\n",
              "      <td>803.56</td>\n",
              "    </tr>\n",
              "    <tr>\n",
              "      <th>1</th>\n",
              "      <td>2033</td>\n",
              "      <td>2010-07-22</td>\n",
              "      <td>120.30</td>\n",
              "      <td>122.00</td>\n",
              "      <td>120.25</td>\n",
              "      <td>120.75</td>\n",
              "      <td>120.90</td>\n",
              "      <td>293312</td>\n",
              "      <td>355.17</td>\n",
              "    </tr>\n",
              "    <tr>\n",
              "      <th>2</th>\n",
              "      <td>2032</td>\n",
              "      <td>2010-07-23</td>\n",
              "      <td>121.80</td>\n",
              "      <td>121.95</td>\n",
              "      <td>120.25</td>\n",
              "      <td>120.35</td>\n",
              "      <td>120.65</td>\n",
              "      <td>281312</td>\n",
              "      <td>340.31</td>\n",
              "    </tr>\n",
              "    <tr>\n",
              "      <th>3</th>\n",
              "      <td>2031</td>\n",
              "      <td>2010-07-26</td>\n",
              "      <td>120.10</td>\n",
              "      <td>121.00</td>\n",
              "      <td>117.10</td>\n",
              "      <td>117.10</td>\n",
              "      <td>117.60</td>\n",
              "      <td>658440</td>\n",
              "      <td>780.01</td>\n",
              "    </tr>\n",
              "    <tr>\n",
              "      <th>4</th>\n",
              "      <td>2030</td>\n",
              "      <td>2010-07-27</td>\n",
              "      <td>117.60</td>\n",
              "      <td>119.50</td>\n",
              "      <td>112.00</td>\n",
              "      <td>118.80</td>\n",
              "      <td>118.65</td>\n",
              "      <td>586100</td>\n",
              "      <td>694.98</td>\n",
              "    </tr>\n",
              "    <tr>\n",
              "      <th>...</th>\n",
              "      <td>...</td>\n",
              "      <td>...</td>\n",
              "      <td>...</td>\n",
              "      <td>...</td>\n",
              "      <td>...</td>\n",
              "      <td>...</td>\n",
              "      <td>...</td>\n",
              "      <td>...</td>\n",
              "      <td>...</td>\n",
              "    </tr>\n",
              "    <tr>\n",
              "      <th>2030</th>\n",
              "      <td>4</td>\n",
              "      <td>2018-09-24</td>\n",
              "      <td>233.55</td>\n",
              "      <td>239.20</td>\n",
              "      <td>230.75</td>\n",
              "      <td>234.00</td>\n",
              "      <td>233.30</td>\n",
              "      <td>3423509</td>\n",
              "      <td>7999.55</td>\n",
              "    </tr>\n",
              "    <tr>\n",
              "      <th>2031</th>\n",
              "      <td>3</td>\n",
              "      <td>2018-09-25</td>\n",
              "      <td>233.30</td>\n",
              "      <td>236.75</td>\n",
              "      <td>232.00</td>\n",
              "      <td>236.25</td>\n",
              "      <td>236.10</td>\n",
              "      <td>2349368</td>\n",
              "      <td>5503.90</td>\n",
              "    </tr>\n",
              "    <tr>\n",
              "      <th>2032</th>\n",
              "      <td>2</td>\n",
              "      <td>2018-09-26</td>\n",
              "      <td>240.00</td>\n",
              "      <td>240.00</td>\n",
              "      <td>232.50</td>\n",
              "      <td>235.00</td>\n",
              "      <td>234.25</td>\n",
              "      <td>2240909</td>\n",
              "      <td>5248.60</td>\n",
              "    </tr>\n",
              "    <tr>\n",
              "      <th>2033</th>\n",
              "      <td>1</td>\n",
              "      <td>2018-09-27</td>\n",
              "      <td>234.55</td>\n",
              "      <td>236.80</td>\n",
              "      <td>231.10</td>\n",
              "      <td>233.80</td>\n",
              "      <td>233.25</td>\n",
              "      <td>5082859</td>\n",
              "      <td>11859.95</td>\n",
              "    </tr>\n",
              "    <tr>\n",
              "      <th>2034</th>\n",
              "      <td>0</td>\n",
              "      <td>2018-09-28</td>\n",
              "      <td>234.05</td>\n",
              "      <td>235.95</td>\n",
              "      <td>230.20</td>\n",
              "      <td>233.50</td>\n",
              "      <td>233.75</td>\n",
              "      <td>3069914</td>\n",
              "      <td>7162.35</td>\n",
              "    </tr>\n",
              "  </tbody>\n",
              "</table>\n",
              "<p>2035 rows × 9 columns</p>\n",
              "</div>\n",
              "      <button class=\"colab-df-convert\" onclick=\"convertToInteractive('df-406b126f-917d-40ff-98d5-0cc9f58c7b42')\"\n",
              "              title=\"Convert this dataframe to an interactive table.\"\n",
              "              style=\"display:none;\">\n",
              "        \n",
              "  <svg xmlns=\"http://www.w3.org/2000/svg\" height=\"24px\"viewBox=\"0 0 24 24\"\n",
              "       width=\"24px\">\n",
              "    <path d=\"M0 0h24v24H0V0z\" fill=\"none\"/>\n",
              "    <path d=\"M18.56 5.44l.94 2.06.94-2.06 2.06-.94-2.06-.94-.94-2.06-.94 2.06-2.06.94zm-11 1L8.5 8.5l.94-2.06 2.06-.94-2.06-.94L8.5 2.5l-.94 2.06-2.06.94zm10 10l.94 2.06.94-2.06 2.06-.94-2.06-.94-.94-2.06-.94 2.06-2.06.94z\"/><path d=\"M17.41 7.96l-1.37-1.37c-.4-.4-.92-.59-1.43-.59-.52 0-1.04.2-1.43.59L10.3 9.45l-7.72 7.72c-.78.78-.78 2.05 0 2.83L4 21.41c.39.39.9.59 1.41.59.51 0 1.02-.2 1.41-.59l7.78-7.78 2.81-2.81c.8-.78.8-2.07 0-2.86zM5.41 20L4 18.59l7.72-7.72 1.47 1.35L5.41 20z\"/>\n",
              "  </svg>\n",
              "      </button>\n",
              "      \n",
              "  <style>\n",
              "    .colab-df-container {\n",
              "      display:flex;\n",
              "      flex-wrap:wrap;\n",
              "      gap: 12px;\n",
              "    }\n",
              "\n",
              "    .colab-df-convert {\n",
              "      background-color: #E8F0FE;\n",
              "      border: none;\n",
              "      border-radius: 50%;\n",
              "      cursor: pointer;\n",
              "      display: none;\n",
              "      fill: #1967D2;\n",
              "      height: 32px;\n",
              "      padding: 0 0 0 0;\n",
              "      width: 32px;\n",
              "    }\n",
              "\n",
              "    .colab-df-convert:hover {\n",
              "      background-color: #E2EBFA;\n",
              "      box-shadow: 0px 1px 2px rgba(60, 64, 67, 0.3), 0px 1px 3px 1px rgba(60, 64, 67, 0.15);\n",
              "      fill: #174EA6;\n",
              "    }\n",
              "\n",
              "    [theme=dark] .colab-df-convert {\n",
              "      background-color: #3B4455;\n",
              "      fill: #D2E3FC;\n",
              "    }\n",
              "\n",
              "    [theme=dark] .colab-df-convert:hover {\n",
              "      background-color: #434B5C;\n",
              "      box-shadow: 0px 1px 3px 1px rgba(0, 0, 0, 0.15);\n",
              "      filter: drop-shadow(0px 1px 2px rgba(0, 0, 0, 0.3));\n",
              "      fill: #FFFFFF;\n",
              "    }\n",
              "  </style>\n",
              "\n",
              "      <script>\n",
              "        const buttonEl =\n",
              "          document.querySelector('#df-406b126f-917d-40ff-98d5-0cc9f58c7b42 button.colab-df-convert');\n",
              "        buttonEl.style.display =\n",
              "          google.colab.kernel.accessAllowed ? 'block' : 'none';\n",
              "\n",
              "        async function convertToInteractive(key) {\n",
              "          const element = document.querySelector('#df-406b126f-917d-40ff-98d5-0cc9f58c7b42');\n",
              "          const dataTable =\n",
              "            await google.colab.kernel.invokeFunction('convertToInteractive',\n",
              "                                                     [key], {});\n",
              "          if (!dataTable) return;\n",
              "\n",
              "          const docLinkHtml = 'Like what you see? Visit the ' +\n",
              "            '<a target=\"_blank\" href=https://colab.research.google.com/notebooks/data_table.ipynb>data table notebook</a>'\n",
              "            + ' to learn more about interactive tables.';\n",
              "          element.innerHTML = '';\n",
              "          dataTable['output_type'] = 'display_data';\n",
              "          await google.colab.output.renderOutput(dataTable, element);\n",
              "          const docLink = document.createElement('div');\n",
              "          docLink.innerHTML = docLinkHtml;\n",
              "          element.appendChild(docLink);\n",
              "        }\n",
              "      </script>\n",
              "    </div>\n",
              "  </div>\n",
              "  "
            ]
          },
          "metadata": {},
          "execution_count": 17
        }
      ]
    },
    {
      "cell_type": "markdown",
      "source": [
        "**Plotting the graph of stacks at close**"
      ],
      "metadata": {
        "id": "LrYNvy7tWdIv"
      }
    },
    {
      "cell_type": "code",
      "source": [
        "plt.plot(d[\"Close\"])"
      ],
      "metadata": {
        "colab": {
          "base_uri": "https://localhost:8080/",
          "height": 282
        },
        "id": "mBhs26BsWRJO",
        "outputId": "dd2e065d-129e-4300-cc3a-a4f66ed74822"
      },
      "execution_count": null,
      "outputs": [
        {
          "output_type": "execute_result",
          "data": {
            "text/plain": [
              "[<matplotlib.lines.Line2D at 0x7fe1aed57fd0>]"
            ]
          },
          "metadata": {},
          "execution_count": 18
        },
        {
          "output_type": "display_data",
          "data": {
            "text/plain": [
              "<Figure size 432x288 with 1 Axes>"
            ],
            "image/png": "[encoded data removed]"
          },
          "metadata": {
            "needs_background": "light"
          }
        }
      ]
    },
    {
      "cell_type": "markdown",
      "source": [
        "**Histogram of stack at high**"
      ],
      "metadata": {
        "id": "3A4Q3Bj7W_jS"
      }
    },
    {
      "cell_type": "code",
      "source": [
        "d['High'].hist()"
      ],
      "metadata": {
        "colab": {
          "base_uri": "https://localhost:8080/",
          "height": 282
        },
        "id": "Ra3aNLp0WRMZ",
        "outputId": "63a4460c-70e7-440a-e4ca-b20edf2b2b74"
      },
      "execution_count": null,
      "outputs": [
        {
          "output_type": "execute_result",
          "data": {
            "text/plain": [
              "<matplotlib.axes._subplots.AxesSubplot at 0x7fe1ae83c5d0>"
            ]
          },
          "metadata": {},
          "execution_count": 19
        },
        {
          "output_type": "display_data",
          "data": {
            "text/plain": [
              "<Figure size 432x288 with 1 Axes>"
            ],
            "image/png": "[encoded data removed]"
          },
          "metadata": {
            "needs_background": "light"
          }
        }
      ]
    },
    {
      "cell_type": "markdown",
      "source": [
        "**Feature Scaling**"
      ],
      "metadata": {
        "id": "5OAGxqn0XIEO"
      }
    },
    {
      "cell_type": "code",
      "source": [
        "d1=d[\"Close\"]"
      ],
      "metadata": {
        "id": "9p9rjMZjXZ53"
      },
      "execution_count": null,
      "outputs": []
    },
    {
      "cell_type": "code",
      "source": [
        "scaler=MinMaxScaler(feature_range=(0,1))\n",
        "d1=scaler.fit_transform(np.array(d1).reshape(-1,1))"
      ],
      "metadata": {
        "id": "xlwMQyrVWRRU"
      },
      "execution_count": null,
      "outputs": []
    },
    {
      "cell_type": "code",
      "source": [
        "d1"
      ],
      "metadata": {
        "colab": {
          "base_uri": "https://localhost:8080/"
        },
        "id": "0uP0H51JWRUb",
        "outputId": "7bf59408-0539-456e-dce4-cd90d66ea5e3"
      },
      "execution_count": null,
      "outputs": [
        {
          "output_type": "execute_result",
          "data": {
            "text/plain": [
              "array([[0.16584967],\n",
              "       [0.16319444],\n",
              "       [0.1621732 ],\n",
              "       ...,\n",
              "       [0.62622549],\n",
              "       [0.62214052],\n",
              "       [0.62418301]])"
            ]
          },
          "metadata": {},
          "execution_count": 22
        }
      ]
    },
    {
      "cell_type": "code",
      "source": [
        "training_size=int(len(d1)*0.70)\n",
        "test_size=len(d1)-training_size"
      ],
      "metadata": {
        "id": "VXID2FWeWRZK"
      },
      "execution_count": null,
      "outputs": []
    },
    {
      "cell_type": "code",
      "source": [
        "train_data=d1[0:training_size,:]\n",
        "test_data=d1[training_size:len(d1),:1]"
      ],
      "metadata": {
        "id": "gr4amKxhWRcR"
      },
      "execution_count": null,
      "outputs": []
    },
    {
      "cell_type": "code",
      "source": [
        "train_data"
      ],
      "metadata": {
        "colab": {
          "base_uri": "https://localhost:8080/"
        },
        "id": "bNH0sMCQWRfM",
        "outputId": "fd7a9481-2cfd-4946-cf0d-52818e9edf8a"
      },
      "execution_count": null,
      "outputs": [
        {
          "output_type": "execute_result",
          "data": {
            "text/plain": [
              "array([[0.16584967],\n",
              "       [0.16319444],\n",
              "       [0.1621732 ],\n",
              "       ...,\n",
              "       [0.15012255],\n",
              "       [0.15747549],\n",
              "       [0.15277778]])"
            ]
          },
          "metadata": {},
          "execution_count": 25
        }
      ]
    },
    {
      "cell_type": "code",
      "source": [
        "test_data"
      ],
      "metadata": {
        "colab": {
          "base_uri": "https://localhost:8080/"
        },
        "id": "VDUZCU_FX6Qq",
        "outputId": "768db1ba-692b-441c-fbcc-3065a2274b4c"
      },
      "execution_count": null,
      "outputs": [
        {
          "output_type": "execute_result",
          "data": {
            "text/plain": [
              "array([[0.1621732 ],\n",
              "       [0.15951797],\n",
              "       [0.16707516],\n",
              "       [0.15992647],\n",
              "       [0.16053922],\n",
              "       [0.16441993],\n",
              "       [0.16687092],\n",
              "       [0.1693219 ],\n",
              "       [0.16074346],\n",
              "       [0.15972222],\n",
              "       [0.16401144],\n",
              "       [0.15727124],\n",
              "       [0.14705882],\n",
              "       [0.14460784],\n",
              "       [0.15175654],\n",
              "       [0.15441176],\n",
              "       [0.15216503],\n",
              "       [0.14848856],\n",
              "       [0.15522876],\n",
              "       [0.15767974],\n",
              "       [0.1621732 ],\n",
              "       [0.16094771],\n",
              "       [0.16339869],\n",
              "       [0.15931373],\n",
              "       [0.15972222],\n",
              "       [0.16115196],\n",
              "       [0.16666667],\n",
              "       [0.15747549],\n",
              "       [0.15379902],\n",
              "       [0.14848856],\n",
              "       [0.15114379],\n",
              "       [0.1503268 ],\n",
              "       [0.15155229],\n",
              "       [0.15645425],\n",
              "       [0.16033497],\n",
              "       [0.1566585 ],\n",
              "       [0.15686275],\n",
              "       [0.17749183],\n",
              "       [0.17973856],\n",
              "       [0.1744281 ],\n",
              "       [0.19281046],\n",
              "       [0.18607026],\n",
              "       [0.18811275],\n",
              "       [0.18443627],\n",
              "       [0.18280229],\n",
              "       [0.18464052],\n",
              "       [0.18178105],\n",
              "       [0.18913399],\n",
              "       [0.1870915 ],\n",
              "       [0.17687908],\n",
              "       [0.18382353],\n",
              "       [0.19158497],\n",
              "       [0.19914216],\n",
              "       [0.20526961],\n",
              "       [0.22038399],\n",
              "       [0.21711601],\n",
              "       [0.21629902],\n",
              "       [0.21854575],\n",
              "       [0.21098856],\n",
              "       [0.21303105],\n",
              "       [0.21221405],\n",
              "       [0.20915033],\n",
              "       [0.21098856],\n",
              "       [0.21098856],\n",
              "       [0.2001634 ],\n",
              "       [0.2005719 ],\n",
              "       [0.21609477],\n",
              "       [0.20772059],\n",
              "       [0.2064951 ],\n",
              "       [0.21446078],\n",
              "       [0.20506536],\n",
              "       [0.23080065],\n",
              "       [0.24183007],\n",
              "       [0.25      ],\n",
              "       [0.24530229],\n",
              "       [0.23468137],\n",
              "       [0.22385621],\n",
              "       [0.23427288],\n",
              "       [0.23754085],\n",
              "       [0.25306373],\n",
              "       [0.25449346],\n",
              "       [0.23202614],\n",
              "       [0.23018791],\n",
              "       [0.22875817],\n",
              "       [0.23325163],\n",
              "       [0.23161765],\n",
              "       [0.23651961],\n",
              "       [0.24632353],\n",
              "       [0.23468137],\n",
              "       [0.23958333],\n",
              "       [0.24223856],\n",
              "       [0.24305556],\n",
              "       [0.24080882],\n",
              "       [0.23713235],\n",
              "       [0.24203431],\n",
              "       [0.24223856],\n",
              "       [0.24571078],\n",
              "       [0.24775327],\n",
              "       [0.24836601],\n",
              "       [0.25020425],\n",
              "       [0.25020425],\n",
              "       [0.23999183],\n",
              "       [0.22201797],\n",
              "       [0.23080065],\n",
              "       [0.22896242],\n",
              "       [0.24060458],\n",
              "       [0.24080882],\n",
              "       [0.23304739],\n",
              "       [0.23325163],\n",
              "       [0.23672386],\n",
              "       [0.25102124],\n",
              "       [0.24387255],\n",
              "       [0.25980392],\n",
              "       [0.26879085],\n",
              "       [0.22896242],\n",
              "       [0.23958333],\n",
              "       [0.25081699],\n",
              "       [0.24857026],\n",
              "       [0.29554739],\n",
              "       [0.28574346],\n",
              "       [0.2871732 ],\n",
              "       [0.28880719],\n",
              "       [0.27328431],\n",
              "       [0.29513889],\n",
              "       [0.28308824],\n",
              "       [0.28982843],\n",
              "       [0.30085784],\n",
              "       [0.29166667],\n",
              "       [0.29227941],\n",
              "       [0.29861111],\n",
              "       [0.28206699],\n",
              "       [0.26327614],\n",
              "       [0.23202614],\n",
              "       [0.24101307],\n",
              "       [0.23876634],\n",
              "       [0.23549837],\n",
              "       [0.22058824],\n",
              "       [0.20588235],\n",
              "       [0.1875    ],\n",
              "       [0.19219771],\n",
              "       [0.18995098],\n",
              "       [0.16727941],\n",
              "       [0.1815768 ],\n",
              "       [0.15400327],\n",
              "       [0.14726307],\n",
              "       [0.16482843],\n",
              "       [0.15379902],\n",
              "       [0.15992647],\n",
              "       [0.14174837],\n",
              "       [0.14848856],\n",
              "       [0.1499183 ],\n",
              "       [0.13950163],\n",
              "       [0.15339052],\n",
              "       [0.16339869],\n",
              "       [0.16748366],\n",
              "       [0.1752451 ],\n",
              "       [0.16727941],\n",
              "       [0.16584967],\n",
              "       [0.1744281 ],\n",
              "       [0.17340686],\n",
              "       [0.1689134 ],\n",
              "       [0.1752451 ],\n",
              "       [0.17544935],\n",
              "       [0.17320261],\n",
              "       [0.17320261],\n",
              "       [0.17075163],\n",
              "       [0.17769608],\n",
              "       [0.17708333],\n",
              "       [0.17708333],\n",
              "       [0.16462418],\n",
              "       [0.16605392],\n",
              "       [0.15706699],\n",
              "       [0.15482026],\n",
              "       [0.14726307],\n",
              "       [0.16176471],\n",
              "       [0.15788399],\n",
              "       [0.16401144],\n",
              "       [0.16768791],\n",
              "       [0.17401961],\n",
              "       [0.17769608],\n",
              "       [0.17769608],\n",
              "       [0.1807598 ],\n",
              "       [0.17851307],\n",
              "       [0.17892157],\n",
              "       [0.17769608],\n",
              "       [0.19035948],\n",
              "       [0.18055556],\n",
              "       [0.19362745],\n",
              "       [0.19076797],\n",
              "       [0.19056373],\n",
              "       [0.19485294],\n",
              "       [0.20241013],\n",
              "       [0.18566176],\n",
              "       [0.19178922],\n",
              "       [0.19403595],\n",
              "       [0.19362745],\n",
              "       [0.19709967],\n",
              "       [0.20220588],\n",
              "       [0.19566993],\n",
              "       [0.20077614],\n",
              "       [0.23161765],\n",
              "       [0.24877451],\n",
              "       [0.25245098],\n",
              "       [0.24795752],\n",
              "       [0.26633987],\n",
              "       [0.25714869],\n",
              "       [0.25735294],\n",
              "       [0.24918301],\n",
              "       [0.24611928],\n",
              "       [0.23611111],\n",
              "       [0.24162582],\n",
              "       [0.24183007],\n",
              "       [0.24775327],\n",
              "       [0.24775327],\n",
              "       [0.24121732],\n",
              "       [0.23815359],\n",
              "       [0.23672386],\n",
              "       [0.23325163],\n",
              "       [0.2559232 ],\n",
              "       [0.24571078],\n",
              "       [0.25490196],\n",
              "       [0.25449346],\n",
              "       [0.25245098],\n",
              "       [0.24693627],\n",
              "       [0.24448529],\n",
              "       [0.22937092],\n",
              "       [0.23917484],\n",
              "       [0.24489379],\n",
              "       [0.26041667],\n",
              "       [0.26082516],\n",
              "       [0.26756536],\n",
              "       [0.26531863],\n",
              "       [0.25388072],\n",
              "       [0.28860294],\n",
              "       [0.28676471],\n",
              "       [0.27634804],\n",
              "       [0.28431373],\n",
              "       [0.28451797],\n",
              "       [0.28267974],\n",
              "       [0.28431373],\n",
              "       [0.28982843],\n",
              "       [0.29289216],\n",
              "       [0.29452614],\n",
              "       [0.28451797],\n",
              "       [0.28594771],\n",
              "       [0.29595588],\n",
              "       [0.28921569],\n",
              "       [0.28410948],\n",
              "       [0.27982026],\n",
              "       [0.2745098 ],\n",
              "       [0.28288399],\n",
              "       [0.29084967],\n",
              "       [0.28737745],\n",
              "       [0.29003268],\n",
              "       [0.28901144],\n",
              "       [0.29738562],\n",
              "       [0.29064542],\n",
              "       [0.29473039],\n",
              "       [0.31352124],\n",
              "       [0.30739379],\n",
              "       [0.30392157],\n",
              "       [0.29146242],\n",
              "       [0.29268791],\n",
              "       [0.29861111],\n",
              "       [0.30187908],\n",
              "       [0.29840686],\n",
              "       [0.29289216],\n",
              "       [0.30085784],\n",
              "       [0.3002451 ],\n",
              "       [0.29370915],\n",
              "       [0.27185458],\n",
              "       [0.28002451],\n",
              "       [0.27308007],\n",
              "       [0.26062092],\n",
              "       [0.24816176],\n",
              "       [0.25367647],\n",
              "       [0.26940359],\n",
              "       [0.26327614],\n",
              "       [0.26388889],\n",
              "       [0.27961601],\n",
              "       [0.29187092],\n",
              "       [0.30187908],\n",
              "       [0.30228758],\n",
              "       [0.2943219 ],\n",
              "       [0.30473856],\n",
              "       [0.30085784],\n",
              "       [0.30004085],\n",
              "       [0.29064542],\n",
              "       [0.30841503],\n",
              "       [0.31658497],\n",
              "       [0.3192402 ],\n",
              "       [0.31556373],\n",
              "       [0.30821078],\n",
              "       [0.31004902],\n",
              "       [0.30984477],\n",
              "       [0.30147059],\n",
              "       [0.28676471],\n",
              "       [0.27124183],\n",
              "       [0.27859477],\n",
              "       [0.27593954],\n",
              "       [0.28472222],\n",
              "       [0.28860294],\n",
              "       [0.28227124],\n",
              "       [0.30718954],\n",
              "       [0.29575163],\n",
              "       [0.31372549],\n",
              "       [0.3496732 ],\n",
              "       [0.36172386],\n",
              "       [0.37908497],\n",
              "       [0.38582516],\n",
              "       [0.3809232 ],\n",
              "       [0.39236111],\n",
              "       [0.37908497],\n",
              "       [0.38480392],\n",
              "       [0.3690768 ],\n",
              "       [0.37275327],\n",
              "       [0.36376634],\n",
              "       [0.36846405],\n",
              "       [0.37275327],\n",
              "       [0.35723039],\n",
              "       [0.36029412],\n",
              "       [0.3619281 ],\n",
              "       [0.35355392],\n",
              "       [0.34375   ],\n",
              "       [0.3500817 ],\n",
              "       [0.34926471],\n",
              "       [0.36560458],\n",
              "       [0.34742647],\n",
              "       [0.3314951 ],\n",
              "       [0.3065768 ],\n",
              "       [0.34007353],\n",
              "       [0.3995098 ],\n",
              "       [0.46119281],\n",
              "       [0.44791667],\n",
              "       [0.46343954],\n",
              "       [0.47058824],\n",
              "       [0.44485294],\n",
              "       [0.47222222],\n",
              "       [0.4628268 ],\n",
              "       [0.45894608],\n",
              "       [0.44689542],\n",
              "       [0.47426471],\n",
              "       [0.47814542],\n",
              "       [0.47651144],\n",
              "       [0.45894608],\n",
              "       [0.47283497],\n",
              "       [0.51062092],\n",
              "       [0.50980392],\n",
              "       [0.51450163],\n",
              "       [0.52410131],\n",
              "       [0.53553922],\n",
              "       [0.51613562],\n",
              "       [0.53553922],\n",
              "       [0.52941176],\n",
              "       [0.54064542],\n",
              "       [0.55249183],\n",
              "       [0.54227941],\n",
              "       [0.53615196],\n",
              "       [0.49101307],\n",
              "       [0.47263072],\n",
              "       [0.50531046],\n",
              "       [0.48059641],\n",
              "       [0.49918301],\n",
              "       [0.51000817],\n",
              "       [0.5126634 ],\n",
              "       [0.50653595],\n",
              "       [0.5249183 ],\n",
              "       [0.52553105],\n",
              "       [0.52022059],\n",
              "       [0.52083333],\n",
              "       [0.52471405],\n",
              "       [0.53533497],\n",
              "       [0.52818627],\n",
              "       [0.52553105],\n",
              "       [0.52839052],\n",
              "       [0.51409314],\n",
              "       [0.50510621],\n",
              "       [0.49897876],\n",
              "       [0.52573529],\n",
              "       [0.50796569],\n",
              "       [0.52634804],\n",
              "       [0.57005719],\n",
              "       [0.59579248],\n",
              "       [0.59640523],\n",
              "       [0.59987745],\n",
              "       [0.59395425],\n",
              "       [0.58966503],\n",
              "       [0.62806373],\n",
              "       [0.58843954],\n",
              "       [0.58639706],\n",
              "       [0.65155229],\n",
              "       [0.63398693],\n",
              "       [0.62683824],\n",
              "       [0.67708333],\n",
              "       [0.6942402 ],\n",
              "       [0.69852941],\n",
              "       [0.7310049 ],\n",
              "       [0.79227941],\n",
              "       [0.78513072],\n",
              "       [0.78880719],\n",
              "       [0.79187092],\n",
              "       [0.80780229],\n",
              "       [0.80269608],\n",
              "       [0.84477124],\n",
              "       [0.81392974],\n",
              "       [0.84211601],\n",
              "       [0.82761438],\n",
              "       [0.80923203],\n",
              "       [0.8129085 ],\n",
              "       [0.79248366],\n",
              "       [0.82945261],\n",
              "       [0.84763072],\n",
              "       [0.8880719 ],\n",
              "       [0.84497549],\n",
              "       [0.83129085],\n",
              "       [0.8306781 ],\n",
              "       [0.84109477],\n",
              "       [0.85743464],\n",
              "       [0.89746732],\n",
              "       [0.89828431],\n",
              "       [0.89542484],\n",
              "       [0.90604575],\n",
              "       [0.91911765],\n",
              "       [0.91748366],\n",
              "       [0.92177288],\n",
              "       [0.96180556],\n",
              "       [0.94750817],\n",
              "       [0.94035948],\n",
              "       [0.94056373],\n",
              "       [0.94485294],\n",
              "       [0.94771242],\n",
              "       [0.96670752],\n",
              "       [0.95731209],\n",
              "       [0.95241013],\n",
              "       [0.94914216],\n",
              "       [1.        ],\n",
              "       [0.98876634],\n",
              "       [0.96180556],\n",
              "       [0.9501634 ],\n",
              "       [0.91707516],\n",
              "       [0.92892157],\n",
              "       [0.93096405],\n",
              "       [0.92422386],\n",
              "       [0.9121732 ],\n",
              "       [0.9121732 ],\n",
              "       [0.90216503],\n",
              "       [0.91115196],\n",
              "       [0.85661765],\n",
              "       [0.84722222],\n",
              "       [0.79207516],\n",
              "       [0.78492647],\n",
              "       [0.75878268],\n",
              "       [0.81372549],\n",
              "       [0.81495098],\n",
              "       [0.80596405],\n",
              "       [0.83394608],\n",
              "       [0.82107843],\n",
              "       [0.80923203],\n",
              "       [0.79513889],\n",
              "       [0.76388889],\n",
              "       [0.74305556],\n",
              "       [0.75837418],\n",
              "       [0.74019608],\n",
              "       [0.77512255],\n",
              "       [0.78656046],\n",
              "       [0.79268791],\n",
              "       [0.79473039],\n",
              "       [0.79207516],\n",
              "       [0.79534314],\n",
              "       [0.78921569],\n",
              "       [0.76776961],\n",
              "       [0.78615196],\n",
              "       [0.76552288],\n",
              "       [0.79697712],\n",
              "       [0.8057598 ],\n",
              "       [0.80698529],\n",
              "       [0.81147876],\n",
              "       [0.78206699],\n",
              "       [0.73386438],\n",
              "       [0.73978758],\n",
              "       [0.74448529],\n",
              "       [0.72671569],\n",
              "       [0.72283497],\n",
              "       [0.74040033],\n",
              "       [0.74693627],\n",
              "       [0.72630719],\n",
              "       [0.80065359],\n",
              "       [0.79187092],\n",
              "       [0.77328431],\n",
              "       [0.78451797],\n",
              "       [0.78329248],\n",
              "       [0.80412582],\n",
              "       [0.79473039],\n",
              "       [0.7879902 ],\n",
              "       [0.7879902 ],\n",
              "       [0.79473039],\n",
              "       [0.81168301],\n",
              "       [0.81699346],\n",
              "       [0.82986111],\n",
              "       [0.83843954],\n",
              "       [0.83884804],\n",
              "       [0.82781863],\n",
              "       [0.82598039],\n",
              "       [0.85028595],\n",
              "       [0.85886438],\n",
              "       [0.86254085],\n",
              "       [0.88480392],\n",
              "       [0.86519608],\n",
              "       [0.84027778],\n",
              "       [0.84497549],\n",
              "       [0.87111928],\n",
              "       [0.85273693],\n",
              "       [0.86213235],\n",
              "       [0.83455882],\n",
              "       [0.84375   ],\n",
              "       [0.71466503],\n",
              "       [0.66053922],\n",
              "       [0.65420752],\n",
              "       [0.68035131],\n",
              "       [0.6689134 ],\n",
              "       [0.66421569],\n",
              "       [0.67892157],\n",
              "       [0.69138072],\n",
              "       [0.70894608],\n",
              "       [0.72263072],\n",
              "       [0.73406863],\n",
              "       [0.72120098],\n",
              "       [0.74979575],\n",
              "       [0.7689951 ],\n",
              "       [0.74468954],\n",
              "       [0.7120098 ],\n",
              "       [0.74673203],\n",
              "       [0.75490196],\n",
              "       [0.76041667],\n",
              "       [0.75980392],\n",
              "       [0.74652778],\n",
              "       [0.76245915],\n",
              "       [0.77062908],\n",
              "       [0.80412582],\n",
              "       [0.78104575],\n",
              "       [0.79411765],\n",
              "       [0.76021242],\n",
              "       [0.73488562],\n",
              "       [0.72406046],\n",
              "       [0.73999183],\n",
              "       [0.74979575],\n",
              "       [0.76143791],\n",
              "       [0.75428922],\n",
              "       [0.74754902],\n",
              "       [0.76960784],\n",
              "       [0.7495915 ],\n",
              "       [0.81719771],\n",
              "       [0.80208333],\n",
              "       [0.77736928],\n",
              "       [0.75714869],\n",
              "       [0.79370915],\n",
              "       [0.79166667],\n",
              "       [0.77144608],\n",
              "       [0.75265523],\n",
              "       [0.72691993],\n",
              "       [0.6629902 ],\n",
              "       [0.68198529],\n",
              "       [0.64419935],\n",
              "       [0.62152778],\n",
              "       [0.6439951 ],\n",
              "       [0.66319444],\n",
              "       [0.67544935],\n",
              "       [0.63705065],\n",
              "       [0.64603758],\n",
              "       [0.65890523],\n",
              "       [0.65870098],\n",
              "       [0.67790033],\n",
              "       [0.63194444],\n",
              "       [0.63112745],\n",
              "       [0.62785948],\n",
              "       [0.64767157],\n",
              "       [0.63991013],\n",
              "       [0.63480392],\n",
              "       [0.63868464],\n",
              "       [0.62336601],\n",
              "       [0.62745098],\n",
              "       [0.63970588],\n",
              "       [0.64705882],\n",
              "       [0.66196895],\n",
              "       [0.67075163],\n",
              "       [0.65196078],\n",
              "       [0.63112745],\n",
              "       [0.61294935],\n",
              "       [0.6376634 ],\n",
              "       [0.62254902],\n",
              "       [0.62745098],\n",
              "       [0.63337418],\n",
              "       [0.62642974],\n",
              "       [0.63623366],\n",
              "       [0.58312908],\n",
              "       [0.57781863],\n",
              "       [0.57230392],\n",
              "       [0.58006536],\n",
              "       [0.57618464],\n",
              "       [0.55167484],\n",
              "       [0.57883987],\n",
              "       [0.625     ],\n",
              "       [0.63582516],\n",
              "       [0.62949346],\n",
              "       [0.62888072],\n",
              "       [0.62765523],\n",
              "       [0.62234477],\n",
              "       [0.63378268],\n",
              "       [0.62622549],\n",
              "       [0.62214052],\n",
              "       [0.62418301]])"
            ]
          },
          "metadata": {},
          "execution_count": 26
        }
      ]
    },
    {
      "cell_type": "code",
      "source": [
        "def datasetcrtd(dataset,time_step):\n",
        "  datax,datay=[],[]\n",
        "  for i in range(len(dataset)-time_step-1):\n",
        "    a=dataset[i:(i+time_step),0]\n",
        "    datax.append(a)\n",
        "    datay.append(dataset[i+time_step,0])\n",
        "  return np.array(datax),np.array(datay)"
      ],
      "metadata": {
        "id": "45ETSXnvX6Tm"
      },
      "execution_count": null,
      "outputs": []
    },
    {
      "cell_type": "code",
      "source": [
        "time_step=100\n",
        "x_train,y_train=datasetcrtd(train_data,time_step)\n",
        "x_test,y_test=datasetcrtd(test_data,time_step)"
      ],
      "metadata": {
        "id": "_Whn8cgTX6W2"
      },
      "execution_count": null,
      "outputs": []
    },
    {
      "cell_type": "code",
      "source": [
        "x_train.shape"
      ],
      "metadata": {
        "colab": {
          "base_uri": "https://localhost:8080/"
        },
        "id": "JCcxSM2bX6d5",
        "outputId": "f92861c4-32c2-4dc4-f75a-e7a231ec4e44"
      },
      "execution_count": null,
      "outputs": [
        {
          "output_type": "execute_result",
          "data": {
            "text/plain": [
              "(1323, 100)"
            ]
          },
          "metadata": {},
          "execution_count": 29
        }
      ]
    },
    {
      "cell_type": "code",
      "source": [
        "y_train.shape"
      ],
      "metadata": {
        "colab": {
          "base_uri": "https://localhost:8080/"
        },
        "id": "dpGDDAJfYGqd",
        "outputId": "f7bf448d-b3e1-4dcf-a3dc-7b817009f49e"
      },
      "execution_count": null,
      "outputs": [
        {
          "output_type": "execute_result",
          "data": {
            "text/plain": [
              "(1323,)"
            ]
          },
          "metadata": {},
          "execution_count": 30
        }
      ]
    },
    {
      "cell_type": "code",
      "source": [
        "x_train=x_train.reshape(x_train.shape[0],x_train.shape[1],1)\n",
        "ytest=x_test.reshape(x_test.shape[0],x_test.shape[1],1)"
      ],
      "metadata": {
        "id": "V_A-miHsYGto"
      },
      "execution_count": null,
      "outputs": []
    },
    {
      "cell_type": "markdown",
      "source": [
        "**Building the model**"
      ],
      "metadata": {
        "id": "Iy0hs7xTYXhE"
      }
    },
    {
      "cell_type": "code",
      "source": [
        "model=Sequential()"
      ],
      "metadata": {
        "id": "muu4IYRZYGwu"
      },
      "execution_count": null,
      "outputs": []
    },
    {
      "cell_type": "code",
      "source": [
        "model.add(LSTM(50,return_sequences=True,input_shape=(100,1)))\n",
        "model.add(LSTM(50,return_sequences=True))\n",
        "model.add(LSTM(50))\n",
        "model.add(Dense(1))\n",
        "model.compile(loss=\"mean_squared_error\",optimizer=\"adam\")\n",
        "model.summary()"
      ],
      "metadata": {
        "colab": {
          "base_uri": "https://localhost:8080/"
        },
        "id": "phdRnaDDYGzs",
        "outputId": "db57866b-eb38-435c-f524-dcc3d6b8ce7c"
      },
      "execution_count": null,
      "outputs": [
        {
          "output_type": "stream",
          "name": "stdout",
          "text": [
            "Model: \"sequential\"\n",
            "_________________________________________________________________\n",
            " Layer (type)                Output Shape              Param #   \n",
            "=================================================================\n",
            " lstm (LSTM)                 (None, 100, 50)           10400     \n",
            "                                                                 \n",
            " lstm_1 (LSTM)               (None, 100, 50)           20200     \n",
            "                                                                 \n",
            " lstm_2 (LSTM)               (None, 50)                20200     \n",
            "                                                                 \n",
            " dense (Dense)               (None, 1)                 51        \n",
            "                                                                 \n",
            "=================================================================\n",
            "Total params: 50,851\n",
            "Trainable params: 50,851\n",
            "Non-trainable params: 0\n",
            "_________________________________________________________________\n"
          ]
        }
      ]
    },
    {
      "cell_type": "code",
      "source": [
        "model.fit(x_train,y_train,validation_split=0.1,epochs=60,batch_size=64,verbose=1)"
      ],
      "metadata": {
        "colab": {
          "base_uri": "https://localhost:8080/"
        },
        "id": "51UFPDKwY4Gx",
        "outputId": "4a2b1950-e45e-44c4-80aa-c52af4bd2557"
      },
      "execution_count": null,
      "outputs": [
        {
          "output_type": "stream",
          "name": "stdout",
          "text": [
            "Epoch 1/60\n",
            "19/19 [==============================] - 18s 546ms/step - loss: 0.0115 - val_loss: 0.0013\n",
            "Epoch 2/60\n",
            "19/19 [==============================] - 6s 302ms/step - loss: 0.0022 - val_loss: 0.0013\n",
            "Epoch 3/60\n",
            "19/19 [==============================] - 4s 186ms/step - loss: 0.0010 - val_loss: 0.0013\n",
            "Epoch 4/60\n",
            "19/19 [==============================] - 3s 184ms/step - loss: 8.7671e-04 - val_loss: 0.0012\n",
            "Epoch 5/60\n",
            "19/19 [==============================] - 3s 182ms/step - loss: 8.4034e-04 - val_loss: 0.0012\n",
            "Epoch 6/60\n",
            "19/19 [==============================] - 4s 186ms/step - loss: 8.1281e-04 - val_loss: 0.0011\n",
            "Epoch 7/60\n",
            "19/19 [==============================] - 3s 182ms/step - loss: 7.8546e-04 - val_loss: 0.0011\n",
            "Epoch 8/60\n",
            "19/19 [==============================] - 3s 181ms/step - loss: 7.6352e-04 - val_loss: 9.7416e-04\n",
            "Epoch 9/60\n",
            "19/19 [==============================] - 3s 180ms/step - loss: 7.5965e-04 - val_loss: 9.3155e-04\n",
            "Epoch 10/60\n",
            "19/19 [==============================] - 3s 184ms/step - loss: 7.2927e-04 - val_loss: 8.8132e-04\n",
            "Epoch 11/60\n",
            "19/19 [==============================] - 3s 179ms/step - loss: 6.9718e-04 - val_loss: 8.4016e-04\n",
            "Epoch 12/60\n",
            "19/19 [==============================] - 3s 181ms/step - loss: 6.9118e-04 - val_loss: 8.2804e-04\n",
            "Epoch 13/60\n",
            "19/19 [==============================] - 3s 181ms/step - loss: 6.9136e-04 - val_loss: 0.0010\n",
            "Epoch 14/60\n",
            "19/19 [==============================] - 3s 180ms/step - loss: 6.4360e-04 - val_loss: 7.6322e-04\n",
            "Epoch 15/60\n",
            "19/19 [==============================] - 3s 182ms/step - loss: 6.2229e-04 - val_loss: 7.9286e-04\n",
            "Epoch 16/60\n",
            "19/19 [==============================] - 4s 221ms/step - loss: 5.9630e-04 - val_loss: 7.3224e-04\n",
            "Epoch 17/60\n",
            "19/19 [==============================] - 5s 254ms/step - loss: 6.2455e-04 - val_loss: 6.4165e-04\n",
            "Epoch 18/60\n",
            "19/19 [==============================] - 3s 183ms/step - loss: 5.8722e-04 - val_loss: 6.5425e-04\n",
            "Epoch 19/60\n",
            "19/19 [==============================] - 3s 181ms/step - loss: 5.8012e-04 - val_loss: 6.8224e-04\n",
            "Epoch 20/60\n",
            "19/19 [==============================] - 3s 182ms/step - loss: 5.7615e-04 - val_loss: 6.0525e-04\n",
            "Epoch 21/60\n",
            "19/19 [==============================] - 4s 188ms/step - loss: 5.2617e-04 - val_loss: 5.9728e-04\n",
            "Epoch 22/60\n",
            "19/19 [==============================] - 3s 183ms/step - loss: 5.3102e-04 - val_loss: 6.2087e-04\n",
            "Epoch 23/60\n",
            "19/19 [==============================] - 4s 185ms/step - loss: 5.1535e-04 - val_loss: 5.6292e-04\n",
            "Epoch 24/60\n",
            "19/19 [==============================] - 3s 184ms/step - loss: 5.0096e-04 - val_loss: 5.2698e-04\n",
            "Epoch 25/60\n",
            "19/19 [==============================] - 3s 183ms/step - loss: 4.9706e-04 - val_loss: 5.3380e-04\n",
            "Epoch 26/60\n",
            "19/19 [==============================] - 3s 181ms/step - loss: 4.8769e-04 - val_loss: 5.2821e-04\n",
            "Epoch 27/60\n",
            "19/19 [==============================] - 4s 185ms/step - loss: 4.6982e-04 - val_loss: 4.9343e-04\n",
            "Epoch 28/60\n",
            "19/19 [==============================] - 3s 182ms/step - loss: 4.6780e-04 - val_loss: 4.6251e-04\n",
            "Epoch 29/60\n",
            "19/19 [==============================] - 4s 235ms/step - loss: 4.7781e-04 - val_loss: 6.6864e-04\n",
            "Epoch 30/60\n",
            "19/19 [==============================] - 4s 212ms/step - loss: 4.5596e-04 - val_loss: 4.5252e-04\n",
            "Epoch 31/60\n",
            "19/19 [==============================] - 4s 186ms/step - loss: 4.3097e-04 - val_loss: 4.6595e-04\n",
            "Epoch 32/60\n",
            "19/19 [==============================] - 4s 185ms/step - loss: 4.2223e-04 - val_loss: 4.4456e-04\n",
            "Epoch 33/60\n",
            "19/19 [==============================] - 4s 185ms/step - loss: 4.5630e-04 - val_loss: 4.2517e-04\n",
            "Epoch 34/60\n",
            "19/19 [==============================] - 4s 186ms/step - loss: 4.2941e-04 - val_loss: 4.4869e-04\n",
            "Epoch 35/60\n",
            "19/19 [==============================] - 4s 186ms/step - loss: 3.8831e-04 - val_loss: 3.8479e-04\n",
            "Epoch 36/60\n",
            "19/19 [==============================] - 3s 183ms/step - loss: 3.7760e-04 - val_loss: 3.5755e-04\n",
            "Epoch 37/60\n",
            "19/19 [==============================] - 3s 183ms/step - loss: 3.9244e-04 - val_loss: 3.9011e-04\n",
            "Epoch 38/60\n",
            "19/19 [==============================] - 3s 184ms/step - loss: 3.7116e-04 - val_loss: 3.5765e-04\n",
            "Epoch 39/60\n",
            "19/19 [==============================] - 4s 186ms/step - loss: 3.4602e-04 - val_loss: 3.3413e-04\n",
            "Epoch 40/60\n",
            "19/19 [==============================] - 4s 186ms/step - loss: 3.3585e-04 - val_loss: 3.1216e-04\n",
            "Epoch 41/60\n",
            "19/19 [==============================] - 3s 182ms/step - loss: 3.2231e-04 - val_loss: 3.2564e-04\n",
            "Epoch 42/60\n",
            "19/19 [==============================] - 3s 184ms/step - loss: 3.2542e-04 - val_loss: 2.9441e-04\n",
            "Epoch 43/60\n",
            "19/19 [==============================] - 3s 182ms/step - loss: 3.1439e-04 - val_loss: 3.1444e-04\n",
            "Epoch 44/60\n",
            "19/19 [==============================] - 3s 183ms/step - loss: 3.4066e-04 - val_loss: 3.3324e-04\n",
            "Epoch 45/60\n",
            "19/19 [==============================] - 3s 182ms/step - loss: 3.1029e-04 - val_loss: 2.6697e-04\n",
            "Epoch 46/60\n",
            "19/19 [==============================] - 3s 183ms/step - loss: 3.0569e-04 - val_loss: 3.2767e-04\n",
            "Epoch 47/60\n",
            "19/19 [==============================] - 3s 183ms/step - loss: 3.1740e-04 - val_loss: 2.5323e-04\n",
            "Epoch 48/60\n",
            "19/19 [==============================] - 4s 185ms/step - loss: 2.8379e-04 - val_loss: 2.7629e-04\n",
            "Epoch 49/60\n",
            "19/19 [==============================] - 4s 185ms/step - loss: 2.7003e-04 - val_loss: 2.7909e-04\n",
            "Epoch 50/60\n",
            "19/19 [==============================] - 4s 184ms/step - loss: 2.6647e-04 - val_loss: 3.1226e-04\n",
            "Epoch 51/60\n",
            "19/19 [==============================] - 3s 183ms/step - loss: 2.7581e-04 - val_loss: 2.2928e-04\n",
            "Epoch 52/60\n",
            "19/19 [==============================] - 4s 187ms/step - loss: 2.8899e-04 - val_loss: 2.3570e-04\n",
            "Epoch 53/60\n",
            "19/19 [==============================] - 4s 187ms/step - loss: 2.3815e-04 - val_loss: 2.2622e-04\n",
            "Epoch 54/60\n",
            "19/19 [==============================] - 4s 186ms/step - loss: 2.3831e-04 - val_loss: 2.1227e-04\n",
            "Epoch 55/60\n",
            "19/19 [==============================] - 4s 188ms/step - loss: 2.2929e-04 - val_loss: 1.9952e-04\n",
            "Epoch 56/60\n",
            "19/19 [==============================] - 4s 187ms/step - loss: 2.3902e-04 - val_loss: 2.0047e-04\n",
            "Epoch 57/60\n",
            "19/19 [==============================] - 4s 186ms/step - loss: 2.2394e-04 - val_loss: 2.3203e-04\n",
            "Epoch 58/60\n",
            "19/19 [==============================] - 4s 188ms/step - loss: 2.2191e-04 - val_loss: 2.0835e-04\n",
            "Epoch 59/60\n",
            "19/19 [==============================] - 4s 193ms/step - loss: 2.1723e-04 - val_loss: 2.3539e-04\n",
            "Epoch 60/60\n",
            "19/19 [==============================] - 4s 192ms/step - loss: 2.0567e-04 - val_loss: 1.9325e-04\n"
          ]
        },
        {
          "output_type": "execute_result",
          "data": {
            "text/plain": [
              "<keras.callbacks.History at 0x7fe153058e90>"
            ]
          },
          "metadata": {},
          "execution_count": 36
        }
      ]
    },
    {
      "cell_type": "markdown",
      "source": [
        "**Predicting the data**"
      ],
      "metadata": {
        "id": "DQnMwX77ZOfu"
      }
    },
    {
      "cell_type": "code",
      "source": [
        "test_predict=model.predict(x_test)\n",
        "test_predict1=scaler.inverse_transform(test_predict)"
      ],
      "metadata": {
        "colab": {
          "base_uri": "https://localhost:8080/"
        },
        "id": "ZJ0mrWShY4KG",
        "outputId": "8b5769e4-0263-48d9-c790-11f9e8901235"
      },
      "execution_count": null,
      "outputs": [
        {
          "output_type": "stream",
          "name": "stdout",
          "text": [
            "16/16 [==============================] - 2s 36ms/step\n"
          ]
        }
      ]
    },
    {
      "cell_type": "code",
      "source": [
        "math.sqrt(mean_squared_error(y_test,test_predict))"
      ],
      "metadata": {
        "colab": {
          "base_uri": "https://localhost:8080/"
        },
        "id": "rAT7uJDVY4Nq",
        "outputId": "8ffd3413-1192-4188-8301-6e31146bca99"
      },
      "execution_count": null,
      "outputs": [
        {
          "output_type": "execute_result",
          "data": {
            "text/plain": [
              "0.055427515339421723"
            ]
          },
          "metadata": {},
          "execution_count": 38
        }
      ]
    },
    {
      "cell_type": "markdown",
      "source": [
        "**Plotting the results**"
      ],
      "metadata": {
        "id": "HmOql7s-ZguP"
      }
    },
    {
      "cell_type": "code",
      "source": [
        "data_testing_complete=pd.read_csv(link)"
      ],
      "metadata": {
        "id": "092EkD6tZkox"
      },
      "execution_count": null,
      "outputs": []
    },
    {
      "cell_type": "code",
      "source": [
        "plt.figure(figsize=(18,6))\n",
        "plt.title(\"Stock Market Price Prediction\")\n",
        "plt.plot(data_testing_complete['Close'])\n",
        "plt.xlabel('Date', fontsize=18)\n",
        "plt.ylabel('Total Trade Quantity', fontsize=18)\n",
        "plt.show()"
      ],
      "metadata": {
        "colab": {
          "base_uri": "https://localhost:8080/",
          "height": 412
        },
        "id": "yyr59tlZZ3nC",
        "outputId": "a445f693-7968-45b8-d19b-83b5d55abdf2"
      },
      "execution_count": null,
      "outputs": [
        {
          "output_type": "display_data",
          "data": {
            "text/plain": [
              "<Figure size 1296x432 with 1 Axes>"
            ],
            "image/png": "[encoded data removed]"
          },
          "metadata": {
            "needs_background": "light"
          }
        }
      ]
    },
    {
      "cell_type": "code",
      "source": [
        "d.index = d['Date']\n",
        "plt.figure(figsize=(20, 10))\n",
        "plt.plot(d[\"Open\"], label='ClosePriceHist')"
      ],
      "metadata": {
        "colab": {
          "base_uri": "https://localhost:8080/",
          "height": 609
        },
        "id": "aBy44yWRZ3p-",
        "outputId": "b64f607f-0316-4ecc-c552-4077ebcd4c55"
      },
      "execution_count": null,
      "outputs": [
        {
          "output_type": "execute_result",
          "data": {
            "text/plain": [
              "[<matplotlib.lines.Line2D at 0x7fe152eeefd0>]"
            ]
          },
          "metadata": {},
          "execution_count": 41
        },
        {
          "output_type": "display_data",
          "data": {
            "text/plain": [
              "<Figure size 1440x720 with 1 Axes>"
            ],
            "image/png": "[encoded data removed]"
          },
          "metadata": {
            "needs_background": "light"
          }
        }
      ]
    },
    {
      "cell_type": "code",
      "source": [
        "plt.figure(figsize=(12,6))\n",
        "plt.plot(d['Date'])\n",
        "plt.xlabel('Turnover (Lacs)', fontsize=18)\n",
        "plt.ylabel('Total Trade Quantity', fontsize=18)\n",
        "plt.show()"
      ],
      "metadata": {
        "colab": {
          "base_uri": "https://localhost:8080/",
          "height": 396
        },
        "id": "Y0vS6QaHZ8FE",
        "outputId": "693a3f7d-02cb-49d0-8726-86c1c6e1b95d"
      },
      "execution_count": null,
      "outputs": [
        {
          "output_type": "display_data",
          "data": {
            "text/plain": [
              "<Figure size 864x432 with 1 Axes>"
            ],
            "image/png": "[encoded data removed]"
          },
          "metadata": {
            "needs_background": "light"
          }
        }
      ]
    },
    {
      "cell_type": "code",
      "source": [
        "cols_plot = ['Open','High','Low','Last','Close']\n",
        "axes = d[cols_plot].plot(alpha = 1, figsize=(20, 30), subplots = True)\n",
        "for i in axes:\n",
        "    i.set_ylabel('Variation')"
      ],
      "metadata": {
        "colab": {
          "base_uri": "https://localhost:8080/",
          "height": 1000
        },
        "id": "Hu7pISS8Z8Il",
        "outputId": "e5cffad7-0eb2-48fd-a6b1-927a07ece119"
      },
      "execution_count": null,
      "outputs": [
        {
          "output_type": "display_data",
          "data": {
            "text/plain": [
              "<Figure size 1440x2160 with 5 Axes>"
            ],
            "image/png": "[encoded data removed]"
          },
          "metadata": {
            "needs_background": "light"
          }
        }
      ]
    },
    {
      "cell_type": "markdown",
      "source": [
        "**Conclusion** : Thus Long Short-Term Memory (LSTM) algorithm is used to forecast the current market trends and predict the stock prices accurately."
      ],
      "metadata": {
        "id": "H-4-qieucXLk"
      }
    }
  ]
}